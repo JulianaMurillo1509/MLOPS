{
 "cells": [
  {
   "cell_type": "code",
   "execution_count": 192,
   "metadata": {},
   "outputs": [
    {
     "name": "stderr",
     "output_type": "stream",
     "text": [
      "SYSTEM_WGETRC = c:/progra~1/wget/etc/wgetrc\n",
      "syswgetrc = C:\\Program Files (x86)\\GnuWin32/etc/wgetrc\n",
      "--2023-02-12 20:06:49--  https://docs.google.com/uc?export=download&id=1WsTJN-u4YRrPKqJTp8h8iUSAdfJC8_qn\n",
      "Resolviendo docs.google.com... 142.250.78.142\n",
      "Connecting to docs.google.com|142.250.78.142|:443... conectado.\n",
      "WARNING: cannot verify docs.google.com's certificate, issued by `/C=US/O=Google Trust Services LLC/CN=GTS CA 1C3':\n",
      "  Unable to locally verify the issuer's authority.\n",
      "Petici�n HTTP enviada, esperando respuesta... 303 See Other\n",
      "Localizaci�n: https://doc-04-6c-docs.googleusercontent.com/docs/securesc/ha0ro937gcuc7l7deffksulhg5h7mbp1/o4j5thpkbedpthke51clem3843ilpd2t/1676250375000/03070346628187686991/*/1WsTJN-u4YRrPKqJTp8h8iUSAdfJC8_qn?e=download&uuid=43d2fb3e-3f13-44eb-9926-fa3a5cf4a285 [siguiendo]\n",
      "Atenci�n: no se admiten comodines en HTTP.\n",
      "--2023-02-12 20:06:50--  https://doc-04-6c-docs.googleusercontent.com/docs/securesc/ha0ro937gcuc7l7deffksulhg5h7mbp1/o4j5thpkbedpthke51clem3843ilpd2t/1676250375000/03070346628187686991/*/1WsTJN-u4YRrPKqJTp8h8iUSAdfJC8_qn?e=download&uuid=43d2fb3e-3f13-44eb-9926-fa3a5cf4a285\n",
      "Resolviendo doc-04-6c-docs.googleusercontent.com... 142.250.78.33\n",
      "Connecting to doc-04-6c-docs.googleusercontent.com|142.250.78.33|:443... conectado.\n",
      "WARNING: cannot verify doc-04-6c-docs.googleusercontent.com's certificate, issued by `/C=US/O=Google Trust Services LLC/CN=GTS CA 1C3':\n",
      "  Unable to locally verify the issuer's authority.\n",
      "Petici�n HTTP enviada, esperando respuesta... 200 OK\n",
      "Longitud: 526795 (514K) [text/csv]\n",
      "Saving to: `houseprice.csv'\n",
      "\n",
      "     0K .......... .......... .......... .......... ..........  9% 1,02M 0s\n",
      "    50K .......... .......... .......... .......... .......... 19%  900K 0s\n",
      "   100K .......... .......... .......... .......... .......... 29% 3,63M 0s\n",
      "   150K .......... .......... .......... .......... .......... 38% 12,7M 0s\n",
      "   200K .......... .......... .......... .......... .......... 48% 10,0M 0s\n",
      "   250K .......... .......... .......... .......... .......... 58% 3,58M 0s\n",
      "   300K .......... .......... .......... .......... .......... 68% 14,4M 0s\n",
      "   350K .......... .......... .......... .......... .......... 77% 4,87M 0s\n",
      "   400K .......... .......... .......... .......... .......... 87% 13,2M 0s\n",
      "   450K .......... .......... .......... .......... .......... 97% 4,00M 0s\n",
      "   500K .......... ....                                       100% 26,6M=0,2s\n",
      "\n",
      "2023-02-12 20:06:56 (2,97 MB/s) - `houseprice.csv' saved [526795/526795]\n",
      "\n"
     ]
    }
   ],
   "source": [
    "!wget --no-check-certificate \"https://docs.google.com/uc?export=download&id=1WsTJN-u4YRrPKqJTp8h8iUSAdfJC8_qn\" -O houseprice.csv\n",
    "#!wget --no-check-certificate 'https://docs.google.com/uc?export=download&id=1GM3vMhalo6nkstKoCnE7cg_cSg179IJA' -O output.csv\n",
    "#!wget --no-check-certificate 'https://docs.google.com/uc?export=download&id=1mw4HxSPCgPonXshqNjVLZBAxUVeYHvY-' -O amazon_dataset.csv\n",
    "#!wget --no-check-certificate \"https://docs.google.com/uc?export=download&id=1ZsJWYHxcEdJQdb62diQf8o3fvXFawt1a\" -O wine.csv"
   ]
  },
  {
   "cell_type": "code",
   "execution_count": 193,
   "metadata": {},
   "outputs": [],
   "source": [
    "import pandas as pd\n",
    "from sklearn.model_selection import train_test_split\n",
    "from sklearn.linear_model import LinearRegression\n",
    "from sklearn.svm import SVC\n",
    "import matplotlib.pyplot as plt\n",
    "from sklearn.metrics import mean_squared_error, r2_score\n"
   ]
  },
  {
   "cell_type": "code",
   "execution_count": 194,
   "metadata": {},
   "outputs": [
    {
     "data": {
      "text/html": [
       "<div>\n",
       "<style scoped>\n",
       "    .dataframe tbody tr th:only-of-type {\n",
       "        vertical-align: middle;\n",
       "    }\n",
       "\n",
       "    .dataframe tbody tr th {\n",
       "        vertical-align: top;\n",
       "    }\n",
       "\n",
       "    .dataframe thead th {\n",
       "        text-align: right;\n",
       "    }\n",
       "</style>\n",
       "<table border=\"1\" class=\"dataframe\">\n",
       "  <thead>\n",
       "    <tr style=\"text-align: right;\">\n",
       "      <th></th>\n",
       "      <th>date</th>\n",
       "      <th>price</th>\n",
       "      <th>bedrooms</th>\n",
       "      <th>bathrooms</th>\n",
       "      <th>sqft_living</th>\n",
       "      <th>sqft_lot</th>\n",
       "      <th>floors</th>\n",
       "      <th>waterfront</th>\n",
       "      <th>view</th>\n",
       "      <th>condition</th>\n",
       "      <th>sqft_above</th>\n",
       "      <th>sqft_basement</th>\n",
       "      <th>yr_built</th>\n",
       "      <th>yr_renovated</th>\n",
       "      <th>street</th>\n",
       "      <th>city</th>\n",
       "      <th>statezip</th>\n",
       "      <th>country</th>\n",
       "    </tr>\n",
       "  </thead>\n",
       "  <tbody>\n",
       "    <tr>\n",
       "      <th>0</th>\n",
       "      <td>2014-05-02 00:00:00</td>\n",
       "      <td>313000.0</td>\n",
       "      <td>3.0</td>\n",
       "      <td>1.50</td>\n",
       "      <td>1340</td>\n",
       "      <td>7912</td>\n",
       "      <td>1.5</td>\n",
       "      <td>0</td>\n",
       "      <td>0</td>\n",
       "      <td>3</td>\n",
       "      <td>1340</td>\n",
       "      <td>0</td>\n",
       "      <td>1955</td>\n",
       "      <td>2005</td>\n",
       "      <td>18810 Densmore Ave N</td>\n",
       "      <td>Shoreline</td>\n",
       "      <td>WA 98133</td>\n",
       "      <td>USA</td>\n",
       "    </tr>\n",
       "    <tr>\n",
       "      <th>1</th>\n",
       "      <td>2014-05-02 00:00:00</td>\n",
       "      <td>2384000.0</td>\n",
       "      <td>5.0</td>\n",
       "      <td>2.50</td>\n",
       "      <td>3650</td>\n",
       "      <td>9050</td>\n",
       "      <td>2.0</td>\n",
       "      <td>0</td>\n",
       "      <td>4</td>\n",
       "      <td>5</td>\n",
       "      <td>3370</td>\n",
       "      <td>280</td>\n",
       "      <td>1921</td>\n",
       "      <td>0</td>\n",
       "      <td>709 W Blaine St</td>\n",
       "      <td>Seattle</td>\n",
       "      <td>WA 98119</td>\n",
       "      <td>USA</td>\n",
       "    </tr>\n",
       "    <tr>\n",
       "      <th>2</th>\n",
       "      <td>2014-05-02 00:00:00</td>\n",
       "      <td>342000.0</td>\n",
       "      <td>3.0</td>\n",
       "      <td>2.00</td>\n",
       "      <td>1930</td>\n",
       "      <td>11947</td>\n",
       "      <td>1.0</td>\n",
       "      <td>0</td>\n",
       "      <td>0</td>\n",
       "      <td>4</td>\n",
       "      <td>1930</td>\n",
       "      <td>0</td>\n",
       "      <td>1966</td>\n",
       "      <td>0</td>\n",
       "      <td>26206-26214 143rd Ave SE</td>\n",
       "      <td>Kent</td>\n",
       "      <td>WA 98042</td>\n",
       "      <td>USA</td>\n",
       "    </tr>\n",
       "    <tr>\n",
       "      <th>3</th>\n",
       "      <td>2014-05-02 00:00:00</td>\n",
       "      <td>420000.0</td>\n",
       "      <td>3.0</td>\n",
       "      <td>2.25</td>\n",
       "      <td>2000</td>\n",
       "      <td>8030</td>\n",
       "      <td>1.0</td>\n",
       "      <td>0</td>\n",
       "      <td>0</td>\n",
       "      <td>4</td>\n",
       "      <td>1000</td>\n",
       "      <td>1000</td>\n",
       "      <td>1963</td>\n",
       "      <td>0</td>\n",
       "      <td>857 170th Pl NE</td>\n",
       "      <td>Bellevue</td>\n",
       "      <td>WA 98008</td>\n",
       "      <td>USA</td>\n",
       "    </tr>\n",
       "    <tr>\n",
       "      <th>4</th>\n",
       "      <td>2014-05-02 00:00:00</td>\n",
       "      <td>550000.0</td>\n",
       "      <td>4.0</td>\n",
       "      <td>2.50</td>\n",
       "      <td>1940</td>\n",
       "      <td>10500</td>\n",
       "      <td>1.0</td>\n",
       "      <td>0</td>\n",
       "      <td>0</td>\n",
       "      <td>4</td>\n",
       "      <td>1140</td>\n",
       "      <td>800</td>\n",
       "      <td>1976</td>\n",
       "      <td>1992</td>\n",
       "      <td>9105 170th Ave NE</td>\n",
       "      <td>Redmond</td>\n",
       "      <td>WA 98052</td>\n",
       "      <td>USA</td>\n",
       "    </tr>\n",
       "  </tbody>\n",
       "</table>\n",
       "</div>"
      ],
      "text/plain": [
       "                  date      price  bedrooms  bathrooms  sqft_living  sqft_lot  \\\n",
       "0  2014-05-02 00:00:00   313000.0       3.0       1.50         1340      7912   \n",
       "1  2014-05-02 00:00:00  2384000.0       5.0       2.50         3650      9050   \n",
       "2  2014-05-02 00:00:00   342000.0       3.0       2.00         1930     11947   \n",
       "3  2014-05-02 00:00:00   420000.0       3.0       2.25         2000      8030   \n",
       "4  2014-05-02 00:00:00   550000.0       4.0       2.50         1940     10500   \n",
       "\n",
       "   floors  waterfront  view  condition  sqft_above  sqft_basement  yr_built  \\\n",
       "0     1.5           0     0          3        1340              0      1955   \n",
       "1     2.0           0     4          5        3370            280      1921   \n",
       "2     1.0           0     0          4        1930              0      1966   \n",
       "3     1.0           0     0          4        1000           1000      1963   \n",
       "4     1.0           0     0          4        1140            800      1976   \n",
       "\n",
       "   yr_renovated                    street       city  statezip country  \n",
       "0          2005      18810 Densmore Ave N  Shoreline  WA 98133     USA  \n",
       "1             0           709 W Blaine St    Seattle  WA 98119     USA  \n",
       "2             0  26206-26214 143rd Ave SE       Kent  WA 98042     USA  \n",
       "3             0           857 170th Pl NE   Bellevue  WA 98008     USA  \n",
       "4          1992         9105 170th Ave NE    Redmond  WA 98052     USA  "
      ]
     },
     "execution_count": 194,
     "metadata": {},
     "output_type": "execute_result"
    }
   ],
   "source": [
    "df = pd.read_csv('houseprice.csv')\n",
    "df.head()"
   ]
  },
  {
   "cell_type": "code",
   "execution_count": 195,
   "metadata": {},
   "outputs": [],
   "source": [
    "def show_distribution(df:pd.DataFrame, col:str):\n",
    "    print(df[col].value_counts().describe())\n",
    "    df.hist(col)"
   ]
  },
  {
   "cell_type": "code",
   "execution_count": 196,
   "metadata": {},
   "outputs": [
    {
     "name": "stdout",
     "output_type": "stream",
     "text": [
      "count      10.000000\n",
      "mean      460.000000\n",
      "std       730.853382\n",
      "min         1.000000\n",
      "25%         5.000000\n",
      "50%        49.500000\n",
      "75%       512.750000\n",
      "max      2032.000000\n",
      "Name: bedrooms, dtype: float64\n"
     ]
    },
    {
     "data": {
      "image/png": "[encoded data removed]",
      "text/plain": [
       "<Figure size 640x480 with 1 Axes>"
      ]
     },
     "metadata": {},
     "output_type": "display_data"
    }
   ],
   "source": [
    "show_distribution(df, 'bedrooms')"
   ]
  },
  {
   "cell_type": "code",
   "execution_count": 197,
   "metadata": {},
   "outputs": [
    {
     "name": "stdout",
     "output_type": "stream",
     "text": [
      "count      26.000000\n",
      "mean      176.923077\n",
      "std       292.754904\n",
      "min         1.000000\n",
      "25%         3.250000\n",
      "50%        23.000000\n",
      "75%       248.750000\n",
      "max      1189.000000\n",
      "Name: bathrooms, dtype: float64\n"
     ]
    },
    {
     "data": {
      "image/png": "[encoded data removed]",
      "text/plain": [
       "<Figure size 640x480 with 1 Axes>"
      ]
     },
     "metadata": {},
     "output_type": "display_data"
    }
   ],
   "source": [
    "show_distribution(df, 'bathrooms')"
   ]
  },
  {
   "cell_type": "code",
   "execution_count": 198,
   "metadata": {},
   "outputs": [
    {
     "name": "stdout",
     "output_type": "stream",
     "text": [
      "count    566.000000\n",
      "mean       8.127208\n",
      "std        8.218352\n",
      "min        1.000000\n",
      "25%        1.000000\n",
      "50%        4.000000\n",
      "75%       14.000000\n",
      "max       32.000000\n",
      "Name: sqft_living, dtype: float64\n"
     ]
    },
    {
     "data": {
      "image/png": "[encoded data removed]",
      "text/plain": [
       "<Figure size 640x480 with 1 Axes>"
      ]
     },
     "metadata": {},
     "output_type": "display_data"
    }
   ],
   "source": [
    "show_distribution(df, 'sqft_living')\n"
   ]
  },
  {
   "cell_type": "code",
   "execution_count": 199,
   "metadata": {},
   "outputs": [
    {
     "name": "stdout",
     "output_type": "stream",
     "text": [
      "count    3113.000000\n",
      "mean        1.477674\n",
      "std         2.785077\n",
      "min         1.000000\n",
      "25%         1.000000\n",
      "50%         1.000000\n",
      "75%         1.000000\n",
      "max        80.000000\n",
      "Name: sqft_lot, dtype: float64\n"
     ]
    },
    {
     "data": {
      "image/png": "[encoded data removed]",
      "text/plain": [
       "<Figure size 640x480 with 1 Axes>"
      ]
     },
     "metadata": {},
     "output_type": "display_data"
    }
   ],
   "source": [
    "show_distribution(df, 'sqft_lot')"
   ]
  },
  {
   "cell_type": "code",
   "execution_count": 200,
   "metadata": {},
   "outputs": [
    {
     "name": "stdout",
     "output_type": "stream",
     "text": [
      "count       6.000000\n",
      "mean      766.666667\n",
      "std       968.972170\n",
      "min         2.000000\n",
      "25%        62.750000\n",
      "50%       286.000000\n",
      "75%      1469.250000\n",
      "max      2174.000000\n",
      "Name: floors, dtype: float64\n"
     ]
    },
    {
     "data": {
      "image/png": "[encoded data removed]",
      "text/plain": [
       "<Figure size 640x480 with 1 Axes>"
      ]
     },
     "metadata": {},
     "output_type": "display_data"
    }
   ],
   "source": [
    "show_distribution(df, 'floors')\n"
   ]
  },
  {
   "cell_type": "code",
   "execution_count": 201,
   "metadata": {},
   "outputs": [
    {
     "name": "stdout",
     "output_type": "stream",
     "text": [
      "count       2.000000\n",
      "mean     2300.000000\n",
      "std      3206.022146\n",
      "min        33.000000\n",
      "25%      1166.500000\n",
      "50%      2300.000000\n",
      "75%      3433.500000\n",
      "max      4567.000000\n",
      "Name: waterfront, dtype: float64\n"
     ]
    },
    {
     "data": {
      "image/png": "[encoded data removed]",
      "text/plain": [
       "<Figure size 640x480 with 1 Axes>"
      ]
     },
     "metadata": {},
     "output_type": "display_data"
    }
   ],
   "source": [
    "show_distribution(df, 'waterfront')"
   ]
  },
  {
   "cell_type": "code",
   "execution_count": 202,
   "metadata": {},
   "outputs": [
    {
     "name": "stdout",
     "output_type": "stream",
     "text": [
      "count       5.000000\n",
      "mean      920.000000\n",
      "std      1800.884644\n",
      "min        69.000000\n",
      "25%        70.000000\n",
      "50%       116.000000\n",
      "75%       205.000000\n",
      "max      4140.000000\n",
      "Name: view, dtype: float64\n"
     ]
    },
    {
     "data": {
      "image/png": "[encoded data removed]",
      "text/plain": [
       "<Figure size 640x480 with 1 Axes>"
      ]
     },
     "metadata": {},
     "output_type": "display_data"
    }
   ],
   "source": [
    "show_distribution(df, 'view')"
   ]
  },
  {
   "cell_type": "code",
   "execution_count": 203,
   "metadata": {},
   "outputs": [
    {
     "name": "stdout",
     "output_type": "stream",
     "text": [
      "count       5.000000\n",
      "mean      920.000000\n",
      "std      1203.267842\n",
      "min         6.000000\n",
      "25%        32.000000\n",
      "50%       435.000000\n",
      "75%      1252.000000\n",
      "max      2875.000000\n",
      "Name: condition, dtype: float64\n"
     ]
    },
    {
     "data": {
      "image/png": "[encoded data removed]",
      "text/plain": [
       "<Figure size 640x480 with 1 Axes>"
      ]
     },
     "metadata": {},
     "output_type": "display_data"
    }
   ],
   "source": [
    "show_distribution(df, 'condition')\n"
   ]
  },
  {
   "cell_type": "code",
   "execution_count": 204,
   "metadata": {},
   "outputs": [
    {
     "name": "stdout",
     "output_type": "stream",
     "text": [
      "count    511.000000\n",
      "mean       9.001957\n",
      "std       10.124809\n",
      "min        1.000000\n",
      "25%        1.000000\n",
      "50%        4.000000\n",
      "75%       14.000000\n",
      "max       47.000000\n",
      "Name: sqft_above, dtype: float64\n"
     ]
    },
    {
     "data": {
      "image/png": "[encoded data removed]",
      "text/plain": [
       "<Figure size 640x480 with 1 Axes>"
      ]
     },
     "metadata": {},
     "output_type": "display_data"
    }
   ],
   "source": [
    "show_distribution(df, 'sqft_above')"
   ]
  },
  {
   "cell_type": "code",
   "execution_count": 205,
   "metadata": {},
   "outputs": [
    {
     "name": "stdout",
     "output_type": "stream",
     "text": [
      "count     207.000000\n",
      "mean       22.222222\n",
      "std       190.366812\n",
      "min         1.000000\n",
      "25%         2.000000\n",
      "50%         7.000000\n",
      "75%        13.000000\n",
      "max      2745.000000\n",
      "Name: sqft_basement, dtype: float64\n"
     ]
    },
    {
     "data": {
      "image/png": "[encoded data removed]",
      "text/plain": [
       "<Figure size 640x480 with 1 Axes>"
      ]
     },
     "metadata": {},
     "output_type": "display_data"
    }
   ],
   "source": [
    "show_distribution(df, 'sqft_basement')"
   ]
  },
  {
   "cell_type": "code",
   "execution_count": 206,
   "metadata": {},
   "outputs": [
    {
     "name": "stdout",
     "output_type": "stream",
     "text": [
      "count    115.000000\n",
      "mean      40.000000\n",
      "std       24.014615\n",
      "min        3.000000\n",
      "25%       21.500000\n",
      "50%       38.000000\n",
      "75%       53.500000\n",
      "max      111.000000\n",
      "Name: yr_built, dtype: float64\n"
     ]
    },
    {
     "data": {
      "image/png": "[encoded data removed]",
      "text/plain": [
       "<Figure size 640x480 with 1 Axes>"
      ]
     },
     "metadata": {},
     "output_type": "display_data"
    }
   ],
   "source": [
    "show_distribution(df, 'yr_built')"
   ]
  },
  {
   "cell_type": "code",
   "execution_count": 207,
   "metadata": {},
   "outputs": [
    {
     "name": "stdout",
     "output_type": "stream",
     "text": [
      "count      60.000000\n",
      "mean       76.666667\n",
      "std       350.937566\n",
      "min         1.000000\n",
      "25%         5.000000\n",
      "50%        19.500000\n",
      "75%        45.000000\n",
      "max      2735.000000\n",
      "Name: yr_renovated, dtype: float64\n"
     ]
    },
    {
     "data": {
      "image/png": "[encoded data removed]",
      "text/plain": [
       "<Figure size 640x480 with 1 Axes>"
      ]
     },
     "metadata": {},
     "output_type": "display_data"
    }
   ],
   "source": [
    "show_distribution(df, 'yr_renovated')"
   ]
  },
  {
   "cell_type": "code",
   "execution_count": 208,
   "metadata": {},
   "outputs": [
    {
     "name": "stdout",
     "output_type": "stream",
     "text": [
      "count    1741.000000\n",
      "mean        2.642160\n",
      "std         4.313709\n",
      "min         1.000000\n",
      "25%         1.000000\n",
      "50%         1.000000\n",
      "75%         2.000000\n",
      "max        49.000000\n",
      "Name: price, dtype: float64\n"
     ]
    },
    {
     "data": {
      "image/png": "[encoded data removed]",
      "text/plain": [
       "<Figure size 640x480 with 1 Axes>"
      ]
     },
     "metadata": {},
     "output_type": "display_data"
    }
   ],
   "source": [
    "show_distribution(df, 'price')"
   ]
  },
  {
   "cell_type": "code",
   "execution_count": 209,
   "metadata": {},
   "outputs": [
    {
     "name": "stderr",
     "output_type": "stream",
     "text": [
      "C:\\Users\\j-mm1\\AppData\\Local\\Temp\\ipykernel_4880\\1464306230.py:1: FutureWarning: The default value of numeric_only in DataFrame.corr is deprecated. In a future version, it will default to False. Select only valid columns or specify the value of numeric_only to silence this warning.\n",
      "  df.corr().style.background_gradient(cmap=\"coolwarm\")\n"
     ]
    },
    {
     "data": {
      "text/html": [
       "<style type=\"text/css\">\n",
       "#T_8305c_row0_col0, #T_8305c_row1_col1, #T_8305c_row2_col2, #T_8305c_row3_col3, #T_8305c_row4_col4, #T_8305c_row5_col5, #T_8305c_row6_col6, #T_8305c_row7_col7, #T_8305c_row8_col8, #T_8305c_row9_col9, #T_8305c_row10_col10, #T_8305c_row11_col11, #T_8305c_row12_col12 {\n",
       "  background-color: #b40426;\n",
       "  color: #f1f1f1;\n",
       "}\n",
       "#T_8305c_row0_col1, #T_8305c_row6_col12 {\n",
       "  background-color: #8caffe;\n",
       "  color: #000000;\n",
       "}\n",
       "#T_8305c_row0_col2, #T_8305c_row3_col0 {\n",
       "  background-color: #cedaeb;\n",
       "  color: #000000;\n",
       "}\n",
       "#T_8305c_row0_col3 {\n",
       "  background-color: #dbdcde;\n",
       "  color: #000000;\n",
       "}\n",
       "#T_8305c_row0_col4, #T_8305c_row11_col4 {\n",
       "  background-color: #506bda;\n",
       "  color: #f1f1f1;\n",
       "}\n",
       "#T_8305c_row0_col5, #T_8305c_row4_col9 {\n",
       "  background-color: #aac7fd;\n",
       "  color: #000000;\n",
       "}\n",
       "#T_8305c_row0_col6 {\n",
       "  background-color: #6b8df0;\n",
       "  color: #f1f1f1;\n",
       "}\n",
       "#T_8305c_row0_col7, #T_8305c_row10_col12 {\n",
       "  background-color: #96b7ff;\n",
       "  color: #000000;\n",
       "}\n",
       "#T_8305c_row0_col8 {\n",
       "  background-color: #a2c1ff;\n",
       "  color: #000000;\n",
       "}\n",
       "#T_8305c_row0_col9 {\n",
       "  background-color: #d3dbe7;\n",
       "  color: #000000;\n",
       "}\n",
       "#T_8305c_row0_col10, #T_8305c_row10_col1 {\n",
       "  background-color: #b7cff9;\n",
       "  color: #000000;\n",
       "}\n",
       "#T_8305c_row0_col11, #T_8305c_row1_col8 {\n",
       "  background-color: #9fbfff;\n",
       "  color: #000000;\n",
       "}\n",
       "#T_8305c_row0_col12 {\n",
       "  background-color: #82a6fb;\n",
       "  color: #f1f1f1;\n",
       "}\n",
       "#T_8305c_row1_col0, #T_8305c_row4_col12, #T_8305c_row5_col1, #T_8305c_row9_col7 {\n",
       "  background-color: #84a7fc;\n",
       "  color: #f1f1f1;\n",
       "}\n",
       "#T_8305c_row1_col2, #T_8305c_row9_col5 {\n",
       "  background-color: #f5c4ac;\n",
       "  color: #000000;\n",
       "}\n",
       "#T_8305c_row1_col3 {\n",
       "  background-color: #f5c0a7;\n",
       "  color: #000000;\n",
       "}\n",
       "#T_8305c_row1_col4, #T_8305c_row5_col8 {\n",
       "  background-color: #5572df;\n",
       "  color: #f1f1f1;\n",
       "}\n",
       "#T_8305c_row1_col5, #T_8305c_row3_col7, #T_8305c_row7_col2 {\n",
       "  background-color: #b1cbfc;\n",
       "  color: #000000;\n",
       "}\n",
       "#T_8305c_row1_col6, #T_8305c_row8_col4, #T_8305c_row8_col6 {\n",
       "  background-color: #4055c8;\n",
       "  color: #f1f1f1;\n",
       "}\n",
       "#T_8305c_row1_col7 {\n",
       "  background-color: #6f92f3;\n",
       "  color: #f1f1f1;\n",
       "}\n",
       "#T_8305c_row1_col9 {\n",
       "  background-color: #ecd3c5;\n",
       "  color: #000000;\n",
       "}\n",
       "#T_8305c_row1_col10 {\n",
       "  background-color: #d5dbe5;\n",
       "  color: #000000;\n",
       "}\n",
       "#T_8305c_row1_col11 {\n",
       "  background-color: #bcd2f7;\n",
       "  color: #000000;\n",
       "}\n",
       "#T_8305c_row1_col12 {\n",
       "  background-color: #7a9df8;\n",
       "  color: #f1f1f1;\n",
       "}\n",
       "#T_8305c_row2_col0 {\n",
       "  background-color: #aec9fc;\n",
       "  color: #000000;\n",
       "}\n",
       "#T_8305c_row2_col1 {\n",
       "  background-color: #edd1c2;\n",
       "  color: #000000;\n",
       "}\n",
       "#T_8305c_row2_col3 {\n",
       "  background-color: #f08a6c;\n",
       "  color: #f1f1f1;\n",
       "}\n",
       "#T_8305c_row2_col4 {\n",
       "  background-color: #6282ea;\n",
       "  color: #f1f1f1;\n",
       "}\n",
       "#T_8305c_row2_col5, #T_8305c_row5_col9 {\n",
       "  background-color: #f1ccb8;\n",
       "  color: #000000;\n",
       "}\n",
       "#T_8305c_row2_col6, #T_8305c_row7_col4 {\n",
       "  background-color: #5875e1;\n",
       "  color: #f1f1f1;\n",
       "}\n",
       "#T_8305c_row2_col7, #T_8305c_row7_col12 {\n",
       "  background-color: #90b2fe;\n",
       "  color: #000000;\n",
       "}\n",
       "#T_8305c_row2_col8 {\n",
       "  background-color: #7b9ff9;\n",
       "  color: #f1f1f1;\n",
       "}\n",
       "#T_8305c_row2_col9 {\n",
       "  background-color: #f59f80;\n",
       "  color: #000000;\n",
       "}\n",
       "#T_8305c_row2_col10 {\n",
       "  background-color: #ccd9ed;\n",
       "  color: #000000;\n",
       "}\n",
       "#T_8305c_row2_col11 {\n",
       "  background-color: #f3c7b1;\n",
       "  color: #000000;\n",
       "}\n",
       "#T_8305c_row2_col12, #T_8305c_row8_col1, #T_8305c_row8_col2 {\n",
       "  background-color: #536edd;\n",
       "  color: #f1f1f1;\n",
       "}\n",
       "#T_8305c_row3_col1, #T_8305c_row5_col11 {\n",
       "  background-color: #f4c6af;\n",
       "  color: #000000;\n",
       "}\n",
       "#T_8305c_row3_col2 {\n",
       "  background-color: #ed8366;\n",
       "  color: #f1f1f1;\n",
       "}\n",
       "#T_8305c_row3_col4 {\n",
       "  background-color: #85a8fc;\n",
       "  color: #f1f1f1;\n",
       "}\n",
       "#T_8305c_row3_col5 {\n",
       "  background-color: #d9dce1;\n",
       "  color: #000000;\n",
       "}\n",
       "#T_8305c_row3_col6 {\n",
       "  background-color: #6687ed;\n",
       "  color: #f1f1f1;\n",
       "}\n",
       "#T_8305c_row3_col8, #T_8305c_row6_col2, #T_8305c_row7_col5, #T_8305c_row7_col11 {\n",
       "  background-color: #89acfd;\n",
       "  color: #000000;\n",
       "}\n",
       "#T_8305c_row3_col9 {\n",
       "  background-color: #d75445;\n",
       "  color: #f1f1f1;\n",
       "}\n",
       "#T_8305c_row3_col10, #T_8305c_row11_col2 {\n",
       "  background-color: #ebd3c6;\n",
       "  color: #000000;\n",
       "}\n",
       "#T_8305c_row3_col11 {\n",
       "  background-color: #dadce0;\n",
       "  color: #000000;\n",
       "}\n",
       "#T_8305c_row3_col12, #T_8305c_row12_col8 {\n",
       "  background-color: #6a8bef;\n",
       "  color: #f1f1f1;\n",
       "}\n",
       "#T_8305c_row4_col0, #T_8305c_row11_col10 {\n",
       "  background-color: #516ddb;\n",
       "  color: #f1f1f1;\n",
       "}\n",
       "#T_8305c_row4_col1, #T_8305c_row9_col12 {\n",
       "  background-color: #6180e9;\n",
       "  color: #f1f1f1;\n",
       "}\n",
       "#T_8305c_row4_col2, #T_8305c_row6_col11 {\n",
       "  background-color: #93b5fe;\n",
       "  color: #000000;\n",
       "}\n",
       "#T_8305c_row4_col3, #T_8305c_row7_col9 {\n",
       "  background-color: #9ebeff;\n",
       "  color: #000000;\n",
       "}\n",
       "#T_8305c_row4_col5, #T_8305c_row6_col9 {\n",
       "  background-color: #81a4fb;\n",
       "  color: #f1f1f1;\n",
       "}\n",
       "#T_8305c_row4_col6, #T_8305c_row6_col4 {\n",
       "  background-color: #465ecf;\n",
       "  color: #f1f1f1;\n",
       "}\n",
       "#T_8305c_row4_col7 {\n",
       "  background-color: #6384eb;\n",
       "  color: #f1f1f1;\n",
       "}\n",
       "#T_8305c_row4_col8, #T_8305c_row6_col8 {\n",
       "  background-color: #9abbff;\n",
       "  color: #000000;\n",
       "}\n",
       "#T_8305c_row4_col10, #T_8305c_row6_col5, #T_8305c_row9_col4, #T_8305c_row10_col0 {\n",
       "  background-color: #86a9fc;\n",
       "  color: #f1f1f1;\n",
       "}\n",
       "#T_8305c_row4_col11 {\n",
       "  background-color: #a6c4fe;\n",
       "  color: #000000;\n",
       "}\n",
       "#T_8305c_row5_col0, #T_8305c_row9_col10 {\n",
       "  background-color: #7295f4;\n",
       "  color: #f1f1f1;\n",
       "}\n",
       "#T_8305c_row5_col2, #T_8305c_row9_col11 {\n",
       "  background-color: #eed0c0;\n",
       "  color: #000000;\n",
       "}\n",
       "#T_8305c_row5_col3 {\n",
       "  background-color: #c5d6f2;\n",
       "  color: #000000;\n",
       "}\n",
       "#T_8305c_row5_col4 {\n",
       "  background-color: #4257c9;\n",
       "  color: #f1f1f1;\n",
       "}\n",
       "#T_8305c_row5_col6 {\n",
       "  background-color: #485fd1;\n",
       "  color: #f1f1f1;\n",
       "}\n",
       "#T_8305c_row5_col7 {\n",
       "  background-color: #5673e0;\n",
       "  color: #f1f1f1;\n",
       "}\n",
       "#T_8305c_row5_col10, #T_8305c_row8_col5, #T_8305c_row8_col9, #T_8305c_row8_col11, #T_8305c_row11_col6, #T_8305c_row11_col7, #T_8305c_row11_col8, #T_8305c_row11_col12, #T_8305c_row12_col0, #T_8305c_row12_col1, #T_8305c_row12_col2, #T_8305c_row12_col3, #T_8305c_row12_col4 {\n",
       "  background-color: #3b4cc0;\n",
       "  color: #f1f1f1;\n",
       "}\n",
       "#T_8305c_row5_col12 {\n",
       "  background-color: #4e68d8;\n",
       "  color: #f1f1f1;\n",
       "}\n",
       "#T_8305c_row6_col0, #T_8305c_row9_col8 {\n",
       "  background-color: #6c8ff1;\n",
       "  color: #f1f1f1;\n",
       "}\n",
       "#T_8305c_row6_col1, #T_8305c_row8_col3 {\n",
       "  background-color: #4a63d3;\n",
       "  color: #f1f1f1;\n",
       "}\n",
       "#T_8305c_row6_col3 {\n",
       "  background-color: #80a3fa;\n",
       "  color: #f1f1f1;\n",
       "}\n",
       "#T_8305c_row6_col7 {\n",
       "  background-color: #c0d4f5;\n",
       "  color: #000000;\n",
       "}\n",
       "#T_8305c_row6_col10 {\n",
       "  background-color: #97b8ff;\n",
       "  color: #000000;\n",
       "}\n",
       "#T_8305c_row7_col0 {\n",
       "  background-color: #8db0fe;\n",
       "  color: #000000;\n",
       "}\n",
       "#T_8305c_row7_col1 {\n",
       "  background-color: #6e90f2;\n",
       "  color: #f1f1f1;\n",
       "}\n",
       "#T_8305c_row7_col3, #T_8305c_row9_col0 {\n",
       "  background-color: #bbd1f8;\n",
       "  color: #000000;\n",
       "}\n",
       "#T_8305c_row7_col6 {\n",
       "  background-color: #b9d0f9;\n",
       "  color: #000000;\n",
       "}\n",
       "#T_8305c_row7_col8 {\n",
       "  background-color: #a9c6fd;\n",
       "  color: #000000;\n",
       "}\n",
       "#T_8305c_row7_col10 {\n",
       "  background-color: #d2dbe8;\n",
       "  color: #000000;\n",
       "}\n",
       "#T_8305c_row8_col0 {\n",
       "  background-color: #4c66d6;\n",
       "  color: #f1f1f1;\n",
       "}\n",
       "#T_8305c_row8_col7, #T_8305c_row10_col6, #T_8305c_row10_col9 {\n",
       "  background-color: #5f7fe8;\n",
       "  color: #f1f1f1;\n",
       "}\n",
       "#T_8305c_row8_col10, #T_8305c_row11_col3 {\n",
       "  background-color: #b5cdfa;\n",
       "  color: #000000;\n",
       "}\n",
       "#T_8305c_row8_col12 {\n",
       "  background-color: #5a78e4;\n",
       "  color: #f1f1f1;\n",
       "}\n",
       "#T_8305c_row9_col1 {\n",
       "  background-color: #e0dbd8;\n",
       "  color: #000000;\n",
       "}\n",
       "#T_8305c_row9_col2 {\n",
       "  background-color: #f59c7d;\n",
       "  color: #000000;\n",
       "}\n",
       "#T_8305c_row9_col3 {\n",
       "  background-color: #d95847;\n",
       "  color: #f1f1f1;\n",
       "}\n",
       "#T_8305c_row9_col6 {\n",
       "  background-color: #5977e3;\n",
       "  color: #f1f1f1;\n",
       "}\n",
       "#T_8305c_row10_col2 {\n",
       "  background-color: #c7d7f0;\n",
       "  color: #000000;\n",
       "}\n",
       "#T_8305c_row10_col3 {\n",
       "  background-color: #dedcdb;\n",
       "  color: #000000;\n",
       "}\n",
       "#T_8305c_row10_col4, #T_8305c_row12_col11 {\n",
       "  background-color: #4b64d5;\n",
       "  color: #f1f1f1;\n",
       "}\n",
       "#T_8305c_row10_col5, #T_8305c_row12_col9 {\n",
       "  background-color: #3e51c5;\n",
       "  color: #f1f1f1;\n",
       "}\n",
       "#T_8305c_row10_col7 {\n",
       "  background-color: #b3cdfb;\n",
       "  color: #000000;\n",
       "}\n",
       "#T_8305c_row10_col8 {\n",
       "  background-color: #c9d7f0;\n",
       "  color: #000000;\n",
       "}\n",
       "#T_8305c_row10_col11 {\n",
       "  background-color: #7093f3;\n",
       "  color: #f1f1f1;\n",
       "}\n",
       "#T_8305c_row11_col0 {\n",
       "  background-color: #4961d2;\n",
       "  color: #f1f1f1;\n",
       "}\n",
       "#T_8305c_row11_col1 {\n",
       "  background-color: #799cf8;\n",
       "  color: #f1f1f1;\n",
       "}\n",
       "#T_8305c_row11_col5 {\n",
       "  background-color: #efcebd;\n",
       "  color: #000000;\n",
       "}\n",
       "#T_8305c_row11_col9 {\n",
       "  background-color: #dcdddd;\n",
       "  color: #000000;\n",
       "}\n",
       "#T_8305c_row12_col5, #T_8305c_row12_col6 {\n",
       "  background-color: #445acc;\n",
       "  color: #f1f1f1;\n",
       "}\n",
       "#T_8305c_row12_col7 {\n",
       "  background-color: #5470de;\n",
       "  color: #f1f1f1;\n",
       "}\n",
       "#T_8305c_row12_col10 {\n",
       "  background-color: #88abfd;\n",
       "  color: #000000;\n",
       "}\n",
       "</style>\n",
       "<table id=\"T_8305c\">\n",
       "  <thead>\n",
       "    <tr>\n",
       "      <th class=\"blank level0\" >&nbsp;</th>\n",
       "      <th id=\"T_8305c_level0_col0\" class=\"col_heading level0 col0\" >price</th>\n",
       "      <th id=\"T_8305c_level0_col1\" class=\"col_heading level0 col1\" >bedrooms</th>\n",
       "      <th id=\"T_8305c_level0_col2\" class=\"col_heading level0 col2\" >bathrooms</th>\n",
       "      <th id=\"T_8305c_level0_col3\" class=\"col_heading level0 col3\" >sqft_living</th>\n",
       "      <th id=\"T_8305c_level0_col4\" class=\"col_heading level0 col4\" >sqft_lot</th>\n",
       "      <th id=\"T_8305c_level0_col5\" class=\"col_heading level0 col5\" >floors</th>\n",
       "      <th id=\"T_8305c_level0_col6\" class=\"col_heading level0 col6\" >waterfront</th>\n",
       "      <th id=\"T_8305c_level0_col7\" class=\"col_heading level0 col7\" >view</th>\n",
       "      <th id=\"T_8305c_level0_col8\" class=\"col_heading level0 col8\" >condition</th>\n",
       "      <th id=\"T_8305c_level0_col9\" class=\"col_heading level0 col9\" >sqft_above</th>\n",
       "      <th id=\"T_8305c_level0_col10\" class=\"col_heading level0 col10\" >sqft_basement</th>\n",
       "      <th id=\"T_8305c_level0_col11\" class=\"col_heading level0 col11\" >yr_built</th>\n",
       "      <th id=\"T_8305c_level0_col12\" class=\"col_heading level0 col12\" >yr_renovated</th>\n",
       "    </tr>\n",
       "  </thead>\n",
       "  <tbody>\n",
       "    <tr>\n",
       "      <th id=\"T_8305c_level0_row0\" class=\"row_heading level0 row0\" >price</th>\n",
       "      <td id=\"T_8305c_row0_col0\" class=\"data row0 col0\" >1.000000</td>\n",
       "      <td id=\"T_8305c_row0_col1\" class=\"data row0 col1\" >0.200336</td>\n",
       "      <td id=\"T_8305c_row0_col2\" class=\"data row0 col2\" >0.327110</td>\n",
       "      <td id=\"T_8305c_row0_col3\" class=\"data row0 col3\" >0.430410</td>\n",
       "      <td id=\"T_8305c_row0_col4\" class=\"data row0 col4\" >0.050451</td>\n",
       "      <td id=\"T_8305c_row0_col5\" class=\"data row0 col5\" >0.151461</td>\n",
       "      <td id=\"T_8305c_row0_col6\" class=\"data row0 col6\" >0.135648</td>\n",
       "      <td id=\"T_8305c_row0_col7\" class=\"data row0 col7\" >0.228504</td>\n",
       "      <td id=\"T_8305c_row0_col8\" class=\"data row0 col8\" >0.034915</td>\n",
       "      <td id=\"T_8305c_row0_col9\" class=\"data row0 col9\" >0.367570</td>\n",
       "      <td id=\"T_8305c_row0_col10\" class=\"data row0 col10\" >0.210427</td>\n",
       "      <td id=\"T_8305c_row0_col11\" class=\"data row0 col11\" >0.021857</td>\n",
       "      <td id=\"T_8305c_row0_col12\" class=\"data row0 col12\" >-0.028774</td>\n",
       "    </tr>\n",
       "    <tr>\n",
       "      <th id=\"T_8305c_level0_row1\" class=\"row_heading level0 row1\" >bedrooms</th>\n",
       "      <td id=\"T_8305c_row1_col0\" class=\"data row1 col0\" >0.200336</td>\n",
       "      <td id=\"T_8305c_row1_col1\" class=\"data row1 col1\" >1.000000</td>\n",
       "      <td id=\"T_8305c_row1_col2\" class=\"data row1 col2\" >0.545920</td>\n",
       "      <td id=\"T_8305c_row1_col3\" class=\"data row1 col3\" >0.594884</td>\n",
       "      <td id=\"T_8305c_row1_col4\" class=\"data row1 col4\" >0.068819</td>\n",
       "      <td id=\"T_8305c_row1_col5\" class=\"data row1 col5\" >0.177895</td>\n",
       "      <td id=\"T_8305c_row1_col6\" class=\"data row1 col6\" >-0.003483</td>\n",
       "      <td id=\"T_8305c_row1_col7\" class=\"data row1 col7\" >0.111028</td>\n",
       "      <td id=\"T_8305c_row1_col8\" class=\"data row1 col8\" >0.025080</td>\n",
       "      <td id=\"T_8305c_row1_col9\" class=\"data row1 col9\" >0.484705</td>\n",
       "      <td id=\"T_8305c_row1_col10\" class=\"data row1 col10\" >0.334165</td>\n",
       "      <td id=\"T_8305c_row1_col11\" class=\"data row1 col11\" >0.142461</td>\n",
       "      <td id=\"T_8305c_row1_col12\" class=\"data row1 col12\" >-0.061082</td>\n",
       "    </tr>\n",
       "    <tr>\n",
       "      <th id=\"T_8305c_level0_row2\" class=\"row_heading level0 row2\" >bathrooms</th>\n",
       "      <td id=\"T_8305c_row2_col0\" class=\"data row2 col0\" >0.327110</td>\n",
       "      <td id=\"T_8305c_row2_col1\" class=\"data row2 col1\" >0.545920</td>\n",
       "      <td id=\"T_8305c_row2_col2\" class=\"data row2 col2\" >1.000000</td>\n",
       "      <td id=\"T_8305c_row2_col3\" class=\"data row2 col3\" >0.761154</td>\n",
       "      <td id=\"T_8305c_row2_col4\" class=\"data row2 col4\" >0.107837</td>\n",
       "      <td id=\"T_8305c_row2_col5\" class=\"data row2 col5\" >0.486428</td>\n",
       "      <td id=\"T_8305c_row2_col6\" class=\"data row2 col6\" >0.076232</td>\n",
       "      <td id=\"T_8305c_row2_col7\" class=\"data row2 col7\" >0.211960</td>\n",
       "      <td id=\"T_8305c_row2_col8\" class=\"data row2 col8\" >-0.119994</td>\n",
       "      <td id=\"T_8305c_row2_col9\" class=\"data row2 col9\" >0.689918</td>\n",
       "      <td id=\"T_8305c_row2_col10\" class=\"data row2 col10\" >0.298020</td>\n",
       "      <td id=\"T_8305c_row2_col11\" class=\"data row2 col11\" >0.463498</td>\n",
       "      <td id=\"T_8305c_row2_col12\" class=\"data row2 col12\" >-0.215886</td>\n",
       "    </tr>\n",
       "    <tr>\n",
       "      <th id=\"T_8305c_level0_row3\" class=\"row_heading level0 row3\" >sqft_living</th>\n",
       "      <td id=\"T_8305c_row3_col0\" class=\"data row3 col0\" >0.430410</td>\n",
       "      <td id=\"T_8305c_row3_col1\" class=\"data row3 col1\" >0.594884</td>\n",
       "      <td id=\"T_8305c_row3_col2\" class=\"data row3 col2\" >0.761154</td>\n",
       "      <td id=\"T_8305c_row3_col3\" class=\"data row3 col3\" >1.000000</td>\n",
       "      <td id=\"T_8305c_row3_col4\" class=\"data row3 col4\" >0.210538</td>\n",
       "      <td id=\"T_8305c_row3_col5\" class=\"data row3 col5\" >0.344850</td>\n",
       "      <td id=\"T_8305c_row3_col6\" class=\"data row3 col6\" >0.117616</td>\n",
       "      <td id=\"T_8305c_row3_col7\" class=\"data row3 col7\" >0.311009</td>\n",
       "      <td id=\"T_8305c_row3_col8\" class=\"data row3 col8\" >-0.062826</td>\n",
       "      <td id=\"T_8305c_row3_col9\" class=\"data row3 col9\" >0.876443</td>\n",
       "      <td id=\"T_8305c_row3_col10\" class=\"data row3 col10\" >0.447206</td>\n",
       "      <td id=\"T_8305c_row3_col11\" class=\"data row3 col11\" >0.287775</td>\n",
       "      <td id=\"T_8305c_row3_col12\" class=\"data row3 col12\" >-0.122817</td>\n",
       "    </tr>\n",
       "    <tr>\n",
       "      <th id=\"T_8305c_level0_row4\" class=\"row_heading level0 row4\" >sqft_lot</th>\n",
       "      <td id=\"T_8305c_row4_col0\" class=\"data row4 col0\" >0.050451</td>\n",
       "      <td id=\"T_8305c_row4_col1\" class=\"data row4 col1\" >0.068819</td>\n",
       "      <td id=\"T_8305c_row4_col2\" class=\"data row4 col2\" >0.107837</td>\n",
       "      <td id=\"T_8305c_row4_col3\" class=\"data row4 col3\" >0.210538</td>\n",
       "      <td id=\"T_8305c_row4_col4\" class=\"data row4 col4\" >1.000000</td>\n",
       "      <td id=\"T_8305c_row4_col5\" class=\"data row4 col5\" >0.003750</td>\n",
       "      <td id=\"T_8305c_row4_col6\" class=\"data row4 col6\" >0.017241</td>\n",
       "      <td id=\"T_8305c_row4_col7\" class=\"data row4 col7\" >0.073907</td>\n",
       "      <td id=\"T_8305c_row4_col8\" class=\"data row4 col8\" >0.000558</td>\n",
       "      <td id=\"T_8305c_row4_col9\" class=\"data row4 col9\" >0.216455</td>\n",
       "      <td id=\"T_8305c_row4_col10\" class=\"data row4 col10\" >0.034842</td>\n",
       "      <td id=\"T_8305c_row4_col11\" class=\"data row4 col11\" >0.050706</td>\n",
       "      <td id=\"T_8305c_row4_col12\" class=\"data row4 col12\" >-0.022730</td>\n",
       "    </tr>\n",
       "    <tr>\n",
       "      <th id=\"T_8305c_level0_row5\" class=\"row_heading level0 row5\" >floors</th>\n",
       "      <td id=\"T_8305c_row5_col0\" class=\"data row5 col0\" >0.151461</td>\n",
       "      <td id=\"T_8305c_row5_col1\" class=\"data row5 col1\" >0.177895</td>\n",
       "      <td id=\"T_8305c_row5_col2\" class=\"data row5 col2\" >0.486428</td>\n",
       "      <td id=\"T_8305c_row5_col3\" class=\"data row5 col3\" >0.344850</td>\n",
       "      <td id=\"T_8305c_row5_col4\" class=\"data row5 col4\" >0.003750</td>\n",
       "      <td id=\"T_8305c_row5_col5\" class=\"data row5 col5\" >1.000000</td>\n",
       "      <td id=\"T_8305c_row5_col6\" class=\"data row5 col6\" >0.022024</td>\n",
       "      <td id=\"T_8305c_row5_col7\" class=\"data row5 col7\" >0.031211</td>\n",
       "      <td id=\"T_8305c_row5_col8\" class=\"data row5 col8\" >-0.275013</td>\n",
       "      <td id=\"T_8305c_row5_col9\" class=\"data row5 col9\" >0.522814</td>\n",
       "      <td id=\"T_8305c_row5_col10\" class=\"data row5 col10\" >-0.255510</td>\n",
       "      <td id=\"T_8305c_row5_col11\" class=\"data row5 col11\" >0.467481</td>\n",
       "      <td id=\"T_8305c_row5_col12\" class=\"data row5 col12\" >-0.233996</td>\n",
       "    </tr>\n",
       "    <tr>\n",
       "      <th id=\"T_8305c_level0_row6\" class=\"row_heading level0 row6\" >waterfront</th>\n",
       "      <td id=\"T_8305c_row6_col0\" class=\"data row6 col0\" >0.135648</td>\n",
       "      <td id=\"T_8305c_row6_col1\" class=\"data row6 col1\" >-0.003483</td>\n",
       "      <td id=\"T_8305c_row6_col2\" class=\"data row6 col2\" >0.076232</td>\n",
       "      <td id=\"T_8305c_row6_col3\" class=\"data row6 col3\" >0.117616</td>\n",
       "      <td id=\"T_8305c_row6_col4\" class=\"data row6 col4\" >0.017241</td>\n",
       "      <td id=\"T_8305c_row6_col5\" class=\"data row6 col5\" >0.022024</td>\n",
       "      <td id=\"T_8305c_row6_col6\" class=\"data row6 col6\" >1.000000</td>\n",
       "      <td id=\"T_8305c_row6_col7\" class=\"data row6 col7\" >0.360935</td>\n",
       "      <td id=\"T_8305c_row6_col8\" class=\"data row6 col8\" >0.000352</td>\n",
       "      <td id=\"T_8305c_row6_col9\" class=\"data row6 col9\" >0.078911</td>\n",
       "      <td id=\"T_8305c_row6_col10\" class=\"data row6 col10\" >0.097501</td>\n",
       "      <td id=\"T_8305c_row6_col11\" class=\"data row6 col11\" >-0.023563</td>\n",
       "      <td id=\"T_8305c_row6_col12\" class=\"data row6 col12\" >0.008625</td>\n",
       "    </tr>\n",
       "    <tr>\n",
       "      <th id=\"T_8305c_level0_row7\" class=\"row_heading level0 row7\" >view</th>\n",
       "      <td id=\"T_8305c_row7_col0\" class=\"data row7 col0\" >0.228504</td>\n",
       "      <td id=\"T_8305c_row7_col1\" class=\"data row7 col1\" >0.111028</td>\n",
       "      <td id=\"T_8305c_row7_col2\" class=\"data row7 col2\" >0.211960</td>\n",
       "      <td id=\"T_8305c_row7_col3\" class=\"data row7 col3\" >0.311009</td>\n",
       "      <td id=\"T_8305c_row7_col4\" class=\"data row7 col4\" >0.073907</td>\n",
       "      <td id=\"T_8305c_row7_col5\" class=\"data row7 col5\" >0.031211</td>\n",
       "      <td id=\"T_8305c_row7_col6\" class=\"data row7 col6\" >0.360935</td>\n",
       "      <td id=\"T_8305c_row7_col7\" class=\"data row7 col7\" >1.000000</td>\n",
       "      <td id=\"T_8305c_row7_col8\" class=\"data row7 col8\" >0.063077</td>\n",
       "      <td id=\"T_8305c_row7_col9\" class=\"data row7 col9\" >0.174327</td>\n",
       "      <td id=\"T_8305c_row7_col10\" class=\"data row7 col10\" >0.321602</td>\n",
       "      <td id=\"T_8305c_row7_col11\" class=\"data row7 col11\" >-0.064465</td>\n",
       "      <td id=\"T_8305c_row7_col12\" class=\"data row7 col12\" >0.022967</td>\n",
       "    </tr>\n",
       "    <tr>\n",
       "      <th id=\"T_8305c_level0_row8\" class=\"row_heading level0 row8\" >condition</th>\n",
       "      <td id=\"T_8305c_row8_col0\" class=\"data row8 col0\" >0.034915</td>\n",
       "      <td id=\"T_8305c_row8_col1\" class=\"data row8 col1\" >0.025080</td>\n",
       "      <td id=\"T_8305c_row8_col2\" class=\"data row8 col2\" >-0.119994</td>\n",
       "      <td id=\"T_8305c_row8_col3\" class=\"data row8 col3\" >-0.062826</td>\n",
       "      <td id=\"T_8305c_row8_col4\" class=\"data row8 col4\" >0.000558</td>\n",
       "      <td id=\"T_8305c_row8_col5\" class=\"data row8 col5\" >-0.275013</td>\n",
       "      <td id=\"T_8305c_row8_col6\" class=\"data row8 col6\" >0.000352</td>\n",
       "      <td id=\"T_8305c_row8_col7\" class=\"data row8 col7\" >0.063077</td>\n",
       "      <td id=\"T_8305c_row8_col8\" class=\"data row8 col8\" >1.000000</td>\n",
       "      <td id=\"T_8305c_row8_col9\" class=\"data row8 col9\" >-0.178196</td>\n",
       "      <td id=\"T_8305c_row8_col10\" class=\"data row8 col10\" >0.200632</td>\n",
       "      <td id=\"T_8305c_row8_col11\" class=\"data row8 col11\" >-0.399698</td>\n",
       "      <td id=\"T_8305c_row8_col12\" class=\"data row8 col12\" >-0.186818</td>\n",
       "    </tr>\n",
       "    <tr>\n",
       "      <th id=\"T_8305c_level0_row9\" class=\"row_heading level0 row9\" >sqft_above</th>\n",
       "      <td id=\"T_8305c_row9_col0\" class=\"data row9 col0\" >0.367570</td>\n",
       "      <td id=\"T_8305c_row9_col1\" class=\"data row9 col1\" >0.484705</td>\n",
       "      <td id=\"T_8305c_row9_col2\" class=\"data row9 col2\" >0.689918</td>\n",
       "      <td id=\"T_8305c_row9_col3\" class=\"data row9 col3\" >0.876443</td>\n",
       "      <td id=\"T_8305c_row9_col4\" class=\"data row9 col4\" >0.216455</td>\n",
       "      <td id=\"T_8305c_row9_col5\" class=\"data row9 col5\" >0.522814</td>\n",
       "      <td id=\"T_8305c_row9_col6\" class=\"data row9 col6\" >0.078911</td>\n",
       "      <td id=\"T_8305c_row9_col7\" class=\"data row9 col7\" >0.174327</td>\n",
       "      <td id=\"T_8305c_row9_col8\" class=\"data row9 col8\" >-0.178196</td>\n",
       "      <td id=\"T_8305c_row9_col9\" class=\"data row9 col9\" >1.000000</td>\n",
       "      <td id=\"T_8305c_row9_col10\" class=\"data row9 col10\" >-0.038723</td>\n",
       "      <td id=\"T_8305c_row9_col11\" class=\"data row9 col11\" >0.408535</td>\n",
       "      <td id=\"T_8305c_row9_col12\" class=\"data row9 col12\" >-0.160426</td>\n",
       "    </tr>\n",
       "    <tr>\n",
       "      <th id=\"T_8305c_level0_row10\" class=\"row_heading level0 row10\" >sqft_basement</th>\n",
       "      <td id=\"T_8305c_row10_col0\" class=\"data row10 col0\" >0.210427</td>\n",
       "      <td id=\"T_8305c_row10_col1\" class=\"data row10 col1\" >0.334165</td>\n",
       "      <td id=\"T_8305c_row10_col2\" class=\"data row10 col2\" >0.298020</td>\n",
       "      <td id=\"T_8305c_row10_col3\" class=\"data row10 col3\" >0.447206</td>\n",
       "      <td id=\"T_8305c_row10_col4\" class=\"data row10 col4\" >0.034842</td>\n",
       "      <td id=\"T_8305c_row10_col5\" class=\"data row10 col5\" >-0.255510</td>\n",
       "      <td id=\"T_8305c_row10_col6\" class=\"data row10 col6\" >0.097501</td>\n",
       "      <td id=\"T_8305c_row10_col7\" class=\"data row10 col7\" >0.321602</td>\n",
       "      <td id=\"T_8305c_row10_col8\" class=\"data row10 col8\" >0.200632</td>\n",
       "      <td id=\"T_8305c_row10_col9\" class=\"data row10 col9\" >-0.038723</td>\n",
       "      <td id=\"T_8305c_row10_col10\" class=\"data row10 col10\" >1.000000</td>\n",
       "      <td id=\"T_8305c_row10_col11\" class=\"data row10 col11\" >-0.161675</td>\n",
       "      <td id=\"T_8305c_row10_col12\" class=\"data row10 col12\" >0.043125</td>\n",
       "    </tr>\n",
       "    <tr>\n",
       "      <th id=\"T_8305c_level0_row11\" class=\"row_heading level0 row11\" >yr_built</th>\n",
       "      <td id=\"T_8305c_row11_col0\" class=\"data row11 col0\" >0.021857</td>\n",
       "      <td id=\"T_8305c_row11_col1\" class=\"data row11 col1\" >0.142461</td>\n",
       "      <td id=\"T_8305c_row11_col2\" class=\"data row11 col2\" >0.463498</td>\n",
       "      <td id=\"T_8305c_row11_col3\" class=\"data row11 col3\" >0.287775</td>\n",
       "      <td id=\"T_8305c_row11_col4\" class=\"data row11 col4\" >0.050706</td>\n",
       "      <td id=\"T_8305c_row11_col5\" class=\"data row11 col5\" >0.467481</td>\n",
       "      <td id=\"T_8305c_row11_col6\" class=\"data row11 col6\" >-0.023563</td>\n",
       "      <td id=\"T_8305c_row11_col7\" class=\"data row11 col7\" >-0.064465</td>\n",
       "      <td id=\"T_8305c_row11_col8\" class=\"data row11 col8\" >-0.399698</td>\n",
       "      <td id=\"T_8305c_row11_col9\" class=\"data row11 col9\" >0.408535</td>\n",
       "      <td id=\"T_8305c_row11_col10\" class=\"data row11 col10\" >-0.161675</td>\n",
       "      <td id=\"T_8305c_row11_col11\" class=\"data row11 col11\" >1.000000</td>\n",
       "      <td id=\"T_8305c_row11_col12\" class=\"data row11 col12\" >-0.321342</td>\n",
       "    </tr>\n",
       "    <tr>\n",
       "      <th id=\"T_8305c_level0_row12\" class=\"row_heading level0 row12\" >yr_renovated</th>\n",
       "      <td id=\"T_8305c_row12_col0\" class=\"data row12 col0\" >-0.028774</td>\n",
       "      <td id=\"T_8305c_row12_col1\" class=\"data row12 col1\" >-0.061082</td>\n",
       "      <td id=\"T_8305c_row12_col2\" class=\"data row12 col2\" >-0.215886</td>\n",
       "      <td id=\"T_8305c_row12_col3\" class=\"data row12 col3\" >-0.122817</td>\n",
       "      <td id=\"T_8305c_row12_col4\" class=\"data row12 col4\" >-0.022730</td>\n",
       "      <td id=\"T_8305c_row12_col5\" class=\"data row12 col5\" >-0.233996</td>\n",
       "      <td id=\"T_8305c_row12_col6\" class=\"data row12 col6\" >0.008625</td>\n",
       "      <td id=\"T_8305c_row12_col7\" class=\"data row12 col7\" >0.022967</td>\n",
       "      <td id=\"T_8305c_row12_col8\" class=\"data row12 col8\" >-0.186818</td>\n",
       "      <td id=\"T_8305c_row12_col9\" class=\"data row12 col9\" >-0.160426</td>\n",
       "      <td id=\"T_8305c_row12_col10\" class=\"data row12 col10\" >0.043125</td>\n",
       "      <td id=\"T_8305c_row12_col11\" class=\"data row12 col11\" >-0.321342</td>\n",
       "      <td id=\"T_8305c_row12_col12\" class=\"data row12 col12\" >1.000000</td>\n",
       "    </tr>\n",
       "  </tbody>\n",
       "</table>\n"
      ],
      "text/plain": [
       "<pandas.io.formats.style.Styler at 0x1f37b5869e0>"
      ]
     },
     "execution_count": 209,
     "metadata": {},
     "output_type": "execute_result"
    }
   ],
   "source": [
    "df.corr().style.background_gradient(cmap=\"coolwarm\")"
   ]
  },
  {
   "cell_type": "code",
   "execution_count": 210,
   "metadata": {},
   "outputs": [],
   "source": [
    "reg = LinearRegression()"
   ]
  },
  {
   "cell_type": "code",
   "execution_count": 211,
   "metadata": {},
   "outputs": [],
   "source": [
    "labels = df['price']\n",
    "conv_dates = [1 if values == 2014 else 0 for values in df.date]\n",
    "df['date'] = conv_dates\n",
    "train1 = df.drop(['price','street','city','statezip','country'],axis=1)"
   ]
  },
  {
   "cell_type": "code",
   "execution_count": 212,
   "metadata": {},
   "outputs": [],
   "source": [
    "X_train, X_test, y_train, y_test = train_test_split(train1, labels, test_size=0.25)"
   ]
  },
  {
   "cell_type": "code",
   "execution_count": 213,
   "metadata": {},
   "outputs": [
    {
     "data": {
      "text/html": [
       "<style>#sk-container-id-3 {color: black;background-color: white;}#sk-container-id-3 pre{padding: 0;}#sk-container-id-3 div.sk-toggleable {background-color: white;}#sk-container-id-3 label.sk-toggleable__label {cursor: pointer;display: block;width: 100%;margin-bottom: 0;padding: 0.3em;box-sizing: border-box;text-align: center;}#sk-container-id-3 label.sk-toggleable__label-arrow:before {content: \"▸\";float: left;margin-right: 0.25em;color: #696969;}#sk-container-id-3 label.sk-toggleable__label-arrow:hover:before {color: black;}#sk-container-id-3 div.sk-estimator:hover label.sk-toggleable__label-arrow:before {color: black;}#sk-container-id-3 div.sk-toggleable__content {max-height: 0;max-width: 0;overflow: hidden;text-align: left;background-color: #f0f8ff;}#sk-container-id-3 div.sk-toggleable__content pre {margin: 0.2em;color: black;border-radius: 0.25em;background-color: #f0f8ff;}#sk-container-id-3 input.sk-toggleable__control:checked~div.sk-toggleable__content {max-height: 200px;max-width: 100%;overflow: auto;}#sk-container-id-3 input.sk-toggleable__control:checked~label.sk-toggleable__label-arrow:before {content: \"▾\";}#sk-container-id-3 div.sk-estimator input.sk-toggleable__control:checked~label.sk-toggleable__label {background-color: #d4ebff;}#sk-container-id-3 div.sk-label input.sk-toggleable__control:checked~label.sk-toggleable__label {background-color: #d4ebff;}#sk-container-id-3 input.sk-hidden--visually {border: 0;clip: rect(1px 1px 1px 1px);clip: rect(1px, 1px, 1px, 1px);height: 1px;margin: -1px;overflow: hidden;padding: 0;position: absolute;width: 1px;}#sk-container-id-3 div.sk-estimator {font-family: monospace;background-color: #f0f8ff;border: 1px dotted black;border-radius: 0.25em;box-sizing: border-box;margin-bottom: 0.5em;}#sk-container-id-3 div.sk-estimator:hover {background-color: #d4ebff;}#sk-container-id-3 div.sk-parallel-item::after {content: \"\";width: 100%;border-bottom: 1px solid gray;flex-grow: 1;}#sk-container-id-3 div.sk-label:hover label.sk-toggleable__label {background-color: #d4ebff;}#sk-container-id-3 div.sk-serial::before {content: \"\";position: absolute;border-left: 1px solid gray;box-sizing: border-box;top: 0;bottom: 0;left: 50%;z-index: 0;}#sk-container-id-3 div.sk-serial {display: flex;flex-direction: column;align-items: center;background-color: white;padding-right: 0.2em;padding-left: 0.2em;position: relative;}#sk-container-id-3 div.sk-item {position: relative;z-index: 1;}#sk-container-id-3 div.sk-parallel {display: flex;align-items: stretch;justify-content: center;background-color: white;position: relative;}#sk-container-id-3 div.sk-item::before, #sk-container-id-3 div.sk-parallel-item::before {content: \"\";position: absolute;border-left: 1px solid gray;box-sizing: border-box;top: 0;bottom: 0;left: 50%;z-index: -1;}#sk-container-id-3 div.sk-parallel-item {display: flex;flex-direction: column;z-index: 1;position: relative;background-color: white;}#sk-container-id-3 div.sk-parallel-item:first-child::after {align-self: flex-end;width: 50%;}#sk-container-id-3 div.sk-parallel-item:last-child::after {align-self: flex-start;width: 50%;}#sk-container-id-3 div.sk-parallel-item:only-child::after {width: 0;}#sk-container-id-3 div.sk-dashed-wrapped {border: 1px dashed gray;margin: 0 0.4em 0.5em 0.4em;box-sizing: border-box;padding-bottom: 0.4em;background-color: white;}#sk-container-id-3 div.sk-label label {font-family: monospace;font-weight: bold;display: inline-block;line-height: 1.2em;}#sk-container-id-3 div.sk-label-container {text-align: center;}#sk-container-id-3 div.sk-container {/* jupyter's `normalize.less` sets `[hidden] { display: none; }` but bootstrap.min.css set `[hidden] { display: none !important; }` so we also need the `!important` here to be able to override the default hidden behavior on the sphinx rendered scikit-learn.org. See: https://github.com/scikit-learn/scikit-learn/issues/21755 */display: inline-block !important;position: relative;}#sk-container-id-3 div.sk-text-repr-fallback {display: none;}</style><div id=\"sk-container-id-3\" class=\"sk-top-container\"><div class=\"sk-text-repr-fallback\"><pre>LinearRegression()</pre><b>In a Jupyter environment, please rerun this cell to show the HTML representation or trust the notebook. <br />On GitHub, the HTML representation is unable to render, please try loading this page with nbviewer.org.</b></div><div class=\"sk-container\" hidden><div class=\"sk-item\"><div class=\"sk-estimator sk-toggleable\"><input class=\"sk-toggleable__control sk-hidden--visually\" id=\"sk-estimator-id-3\" type=\"checkbox\" checked><label for=\"sk-estimator-id-3\" class=\"sk-toggleable__label sk-toggleable__label-arrow\">LinearRegression</label><div class=\"sk-toggleable__content\"><pre>LinearRegression()</pre></div></div></div></div></div>"
      ],
      "text/plain": [
       "LinearRegression()"
      ]
     },
     "execution_count": 213,
     "metadata": {},
     "output_type": "execute_result"
    }
   ],
   "source": [
    "reg.fit(X_train, y_train)"
   ]
  },
  {
   "cell_type": "code",
   "execution_count": 214,
   "metadata": {},
   "outputs": [
    {
     "data": {
      "text/plain": [
       "0.18552766437253232"
      ]
     },
     "execution_count": 214,
     "metadata": {},
     "output_type": "execute_result"
    }
   ],
   "source": [
    "reg.score(X_train, y_train)"
   ]
  },
  {
   "cell_type": "code",
   "execution_count": 215,
   "metadata": {},
   "outputs": [],
   "source": [
    "expected_y  = y_test\n",
    "predicted_y = reg.predict(X_test)"
   ]
  },
  {
   "cell_type": "code",
   "execution_count": 216,
   "metadata": {},
   "outputs": [
    {
     "data": {
      "text/plain": [
       "73538928793.72647"
      ]
     },
     "execution_count": 216,
     "metadata": {},
     "output_type": "execute_result"
    }
   ],
   "source": [
    "mean_squared_error(y_test,predicted_y)"
   ]
  },
  {
   "cell_type": "code",
   "execution_count": 217,
   "metadata": {},
   "outputs": [
    {
     "data": {
      "text/plain": [
       "0.467707888717078"
      ]
     },
     "execution_count": 217,
     "metadata": {},
     "output_type": "execute_result"
    }
   ],
   "source": [
    "r2_score(y_test,predicted_y)"
   ]
  },
  {
   "cell_type": "code",
   "execution_count": 218,
   "metadata": {},
   "outputs": [],
   "source": [
    "from joblib import dump, load"
   ]
  },
  {
   "cell_type": "code",
   "execution_count": 219,
   "metadata": {},
   "outputs": [
    {
     "data": {
      "text/plain": [
       "['model.joblib']"
      ]
     },
     "execution_count": 219,
     "metadata": {},
     "output_type": "execute_result"
    }
   ],
   "source": [
    "dump(reg, 'model.joblib') "
   ]
  },
  {
   "cell_type": "code",
   "execution_count": 220,
   "metadata": {},
   "outputs": [],
   "source": [
    "model_loaded = load('model.joblib') "
   ]
  },
  {
   "cell_type": "code",
   "execution_count": 221,
   "metadata": {},
   "outputs": [
    {
     "data": {
      "text/plain": [
       "array([567577.60267481])"
      ]
     },
     "execution_count": 221,
     "metadata": {},
     "output_type": "execute_result"
    }
   ],
   "source": [
    "model_loaded.predict(X_test[0:1])"
   ]
  },
  {
   "cell_type": "code",
   "execution_count": 222,
   "metadata": {},
   "outputs": [
    {
     "data": {
      "text/html": [
       "<div>\n",
       "<style scoped>\n",
       "    .dataframe tbody tr th:only-of-type {\n",
       "        vertical-align: middle;\n",
       "    }\n",
       "\n",
       "    .dataframe tbody tr th {\n",
       "        vertical-align: top;\n",
       "    }\n",
       "\n",
       "    .dataframe thead th {\n",
       "        text-align: right;\n",
       "    }\n",
       "</style>\n",
       "<table border=\"1\" class=\"dataframe\">\n",
       "  <thead>\n",
       "    <tr style=\"text-align: right;\">\n",
       "      <th></th>\n",
       "      <th>date</th>\n",
       "      <th>bedrooms</th>\n",
       "      <th>bathrooms</th>\n",
       "      <th>sqft_living</th>\n",
       "      <th>sqft_lot</th>\n",
       "      <th>floors</th>\n",
       "      <th>waterfront</th>\n",
       "      <th>view</th>\n",
       "      <th>condition</th>\n",
       "      <th>sqft_above</th>\n",
       "      <th>sqft_basement</th>\n",
       "      <th>yr_built</th>\n",
       "      <th>yr_renovated</th>\n",
       "    </tr>\n",
       "  </thead>\n",
       "  <tbody>\n",
       "    <tr>\n",
       "      <th>2820</th>\n",
       "      <td>0</td>\n",
       "      <td>3.0</td>\n",
       "      <td>2.5</td>\n",
       "      <td>1940</td>\n",
       "      <td>9000</td>\n",
       "      <td>1.0</td>\n",
       "      <td>0</td>\n",
       "      <td>0</td>\n",
       "      <td>4</td>\n",
       "      <td>970</td>\n",
       "      <td>970</td>\n",
       "      <td>1948</td>\n",
       "      <td>0</td>\n",
       "    </tr>\n",
       "  </tbody>\n",
       "</table>\n",
       "</div>"
      ],
      "text/plain": [
       "      date  bedrooms  bathrooms  sqft_living  sqft_lot  floors  waterfront  \\\n",
       "2820     0       3.0        2.5         1940      9000     1.0           0   \n",
       "\n",
       "      view  condition  sqft_above  sqft_basement  yr_built  yr_renovated  \n",
       "2820     0          4         970            970      1948             0  "
      ]
     },
     "execution_count": 222,
     "metadata": {},
     "output_type": "execute_result"
    }
   ],
   "source": [
    "X_test[0:1]"
   ]
  }
 ],
 "metadata": {
  "kernelspec": {
   "display_name": "Python 3",
   "language": "python",
   "name": "python3"
  },
  "language_info": {
   "codemirror_mode": {
    "name": "ipython",
    "version": 3
   },
   "file_extension": ".py",
   "mimetype": "text/x-python",
   "name": "python",
   "nbconvert_exporter": "python",
   "pygments_lexer": "ipython3",
   "version": "3.10.5"
  },
  "orig_nbformat": 4,
  "vscode": {
   "interpreter": {
    "hash": "369f2c481f4da34e4445cda3fffd2e751bd1c4d706f27375911949ba6bb62e1c"
   }
  }
 },
 "nbformat": 4,
 "nbformat_minor": 2
}
