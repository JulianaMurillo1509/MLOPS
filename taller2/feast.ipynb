{
 "cells": [
  {
   "cell_type": "code",
   "execution_count": 2,
   "metadata": {},
   "outputs": [
    {
     "ename": "ModuleNotFoundError",
     "evalue": "No module named 'feast'",
     "output_type": "error",
     "traceback": [
      "\u001b[1;31m---------------------------------------------------------------------------\u001b[0m",
      "\u001b[1;31mModuleNotFoundError\u001b[0m                       Traceback (most recent call last)",
      "Cell \u001b[1;32mIn[2], line 2\u001b[0m\n\u001b[0;32m      1\u001b[0m \u001b[39mimport\u001b[39;00m \u001b[39mpandas\u001b[39;00m \u001b[39mas\u001b[39;00m \u001b[39mpd\u001b[39;00m\n\u001b[1;32m----> 2\u001b[0m \u001b[39mfrom\u001b[39;00m \u001b[39mfeast\u001b[39;00m \u001b[39mimport\u001b[39;00m FeatureStore, FileSource, ValueType, Entity, Feature, FeatureView\n\u001b[0;32m      4\u001b[0m \u001b[39m# Cargar los datos en un DataFrame de Pandas\u001b[39;00m\n\u001b[0;32m      5\u001b[0m users_df \u001b[39m=\u001b[39m pd\u001b[39m.\u001b[39mread_csv(\u001b[39m\"\u001b[39m\u001b[39musers.csv\u001b[39m\u001b[39m\"\u001b[39m)\n",
      "\u001b[1;31mModuleNotFoundError\u001b[0m: No module named 'feast'"
     ]
    }
   ],
   "source": [
    "import pandas as pd\n",
    "from feast import FeatureStore, FileSource, ValueType, Entity, Feature, FeatureView\n",
    "\n",
    "# Cargar los datos en un DataFrame de Pandas\n",
    "users_df = pd.read_csv(\"users.csv\")\n",
    "\n",
    "# Crear una fuente de datos en Feast que apunte al archivo CSV\n",
    "users_source = FileSource(\n",
    "    path=\"path/to/users.yaml\",\n",
    "    event_timestamp_column=\"event_timestamp\",\n",
    "    created_timestamp_column=\"created_timestamp\"\n",
    ")\n",
    "\n",
    "# Crear una entidad para los usuarios\n",
    "user_entity = Entity(name=\"user\", value_type=ValueType.INT64, description=\"Un usuario en el sistema\")\n",
    "\n",
    "# Crear una característica para la edad de los usuarios\n",
    "age_feature = Feature(name=\"age\", dtype=ValueType.INT32)\n",
    "\n",
    "# Crear una vista de características para los usuarios\n",
    "users_view = FeatureView(\n",
    "    name=\"users\",\n",
    "    entities=[\"user\"],\n",
    "    ttl=\"7d\",\n",
    "    features=[age_feature],\n",
    "    online=True,\n",
    "    input=user_source\n",
    ")\n",
    "\n",
    "# Cargar los datos en el Feature Store\n",
    "store = FeatureStore(repo_path=\"my_project\")\n",
    "store.update_feature_view(users_view, users_df)\n"
   ]
  }
 ],
 "metadata": {
  "kernelspec": {
   "display_name": "Python 3",
   "language": "python",
   "name": "python3"
  },
  "language_info": {
   "codemirror_mode": {
    "name": "ipython",
    "version": 3
   },
   "file_extension": ".py",
   "mimetype": "text/x-python",
   "name": "python",
   "nbconvert_exporter": "python",
   "pygments_lexer": "ipython3",
   "version": "3.10.5"
  },
  "orig_nbformat": 4
 },
 "nbformat": 4,
 "nbformat_minor": 2
}
