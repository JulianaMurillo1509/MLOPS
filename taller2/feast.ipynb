{
 "cells": [
  {
   "cell_type": "code",
   "execution_count": 1,
   "metadata": {
    "tags": []
   },
   "outputs": [
    {
     "name": "stdout",
     "output_type": "stream",
     "text": [
      "Defaulting to user installation because normal site-packages is not writeable\n",
      "Requirement already satisfied: feast in /home/estudiante/.local/lib/python3.10/site-packages (0.31.1)\n",
      "Requirement already satisfied: click<9.0.0,>=7.0.0 in /home/estudiante/.local/lib/python3.10/site-packages (from feast) (8.1.3)\n",
      "Requirement already satisfied: colorama<1,>=0.3.9 in /usr/lib/python3/dist-packages (from feast) (0.4.4)\n",
      "Requirement already satisfied: dill~=0.3.0 in /home/estudiante/.local/lib/python3.10/site-packages (from feast) (0.3.6)\n",
      "Requirement already satisfied: fastavro<2,>=1.1.0 in /home/estudiante/.local/lib/python3.10/site-packages (from feast) (1.7.4)\n",
      "Requirement already satisfied: grpcio<2,>=1.47.0 in /home/estudiante/.local/lib/python3.10/site-packages (from feast) (1.54.2)\n",
      "Requirement already satisfied: grpcio-reflection<2,>=1.47.0 in /home/estudiante/.local/lib/python3.10/site-packages (from feast) (1.54.2)\n",
      "Requirement already satisfied: Jinja2<4,>=2 in /home/estudiante/.local/lib/python3.10/site-packages (from feast) (3.1.2)\n",
      "Requirement already satisfied: jsonschema in /home/estudiante/.local/lib/python3.10/site-packages (from feast) (4.17.3)\n",
      "Requirement already satisfied: mmh3 in /home/estudiante/.local/lib/python3.10/site-packages (from feast) (3.1.0)\n",
      "Requirement already satisfied: numpy<3,>=1.22 in /home/estudiante/.local/lib/python3.10/site-packages (from feast) (1.24.2)\n",
      "Requirement already satisfied: pandas<2,>=1.4.3 in /home/estudiante/.local/lib/python3.10/site-packages (from feast) (1.5.3)\n",
      "Requirement already satisfied: pandavro~=1.5.0 in /home/estudiante/.local/lib/python3.10/site-packages (from feast) (1.5.2)\n",
      "Requirement already satisfied: protobuf<5,>3.20 in /home/estudiante/.local/lib/python3.10/site-packages (from feast) (4.23.0)\n",
      "Requirement already satisfied: proto-plus<2,>=1.20.0 in /home/estudiante/.local/lib/python3.10/site-packages (from feast) (1.22.2)\n",
      "Requirement already satisfied: pyarrow<12,>=4 in /home/estudiante/.local/lib/python3.10/site-packages (from feast) (11.0.0)\n",
      "Requirement already satisfied: pydantic<2,>=1 in /home/estudiante/.local/lib/python3.10/site-packages (from feast) (1.10.4)\n",
      "Requirement already satisfied: pygments<3,>=2.12.0 in /home/estudiante/.local/lib/python3.10/site-packages (from feast) (2.14.0)\n",
      "Requirement already satisfied: PyYAML<7,>=5.4.0 in /usr/lib/python3/dist-packages (from feast) (5.4.1)\n",
      "Requirement already satisfied: requests in /home/estudiante/.local/lib/python3.10/site-packages (from feast) (2.28.2)\n",
      "Requirement already satisfied: SQLAlchemy[mypy]<2,>1 in /home/estudiante/.local/lib/python3.10/site-packages (from feast) (1.4.48)\n",
      "Requirement already satisfied: tabulate<1,>=0.8.0 in /home/estudiante/.local/lib/python3.10/site-packages (from feast) (0.9.0)\n",
      "Requirement already satisfied: tenacity<9,>=7 in /home/estudiante/.local/lib/python3.10/site-packages (from feast) (8.2.2)\n",
      "Requirement already satisfied: toml<1,>=0.10.0 in /home/estudiante/.local/lib/python3.10/site-packages (from feast) (0.10.2)\n",
      "Requirement already satisfied: tqdm<5,>=4 in /home/estudiante/.local/lib/python3.10/site-packages (from feast) (4.65.0)\n",
      "Requirement already satisfied: typeguard==2.13.3 in /home/estudiante/.local/lib/python3.10/site-packages (from feast) (2.13.3)\n",
      "Requirement already satisfied: fastapi<1,>=0.68.0 in /home/estudiante/.local/lib/python3.10/site-packages (from feast) (0.90.1)\n",
      "Requirement already satisfied: uvicorn[standard]<1,>=0.14.0 in /home/estudiante/.local/lib/python3.10/site-packages (from feast) (0.20.0)\n",
      "Requirement already satisfied: dask>=2021.1.0 in /home/estudiante/.local/lib/python3.10/site-packages (from feast) (2023.5.0)\n",
      "Requirement already satisfied: bowler in /home/estudiante/.local/lib/python3.10/site-packages (from feast) (0.9.0)\n",
      "Requirement already satisfied: httpx>=0.23.3 in /home/estudiante/.local/lib/python3.10/site-packages (from feast) (0.24.0)\n",
      "Requirement already satisfied: cloudpickle>=1.5.0 in /home/estudiante/.local/lib/python3.10/site-packages (from dask>=2021.1.0->feast) (2.2.1)\n",
      "Requirement already satisfied: fsspec>=2021.09.0 in /home/estudiante/.local/lib/python3.10/site-packages (from dask>=2021.1.0->feast) (2023.5.0)\n",
      "Requirement already satisfied: packaging>=20.0 in /home/estudiante/.local/lib/python3.10/site-packages (from dask>=2021.1.0->feast) (23.0)\n",
      "Requirement already satisfied: partd>=1.2.0 in /home/estudiante/.local/lib/python3.10/site-packages (from dask>=2021.1.0->feast) (1.4.0)\n",
      "Requirement already satisfied: toolz>=0.10.0 in /home/estudiante/.local/lib/python3.10/site-packages (from dask>=2021.1.0->feast) (0.12.0)\n",
      "Requirement already satisfied: importlib-metadata>=4.13.0 in /home/estudiante/.local/lib/python3.10/site-packages (from dask>=2021.1.0->feast) (6.6.0)\n",
      "Requirement already satisfied: starlette<0.24.0,>=0.22.0 in /home/estudiante/.local/lib/python3.10/site-packages (from fastapi<1,>=0.68.0->feast) (0.23.1)\n",
      "Requirement already satisfied: certifi in /usr/lib/python3/dist-packages (from httpx>=0.23.3->feast) (2020.6.20)\n",
      "Requirement already satisfied: httpcore<0.18.0,>=0.15.0 in /home/estudiante/.local/lib/python3.10/site-packages (from httpx>=0.23.3->feast) (0.17.0)\n",
      "Requirement already satisfied: idna in /usr/lib/python3/dist-packages (from httpx>=0.23.3->feast) (3.3)\n",
      "Requirement already satisfied: sniffio in /home/estudiante/.local/lib/python3.10/site-packages (from httpx>=0.23.3->feast) (1.3.0)\n",
      "Requirement already satisfied: MarkupSafe>=2.0 in /home/estudiante/.local/lib/python3.10/site-packages (from Jinja2<4,>=2->feast) (2.1.2)\n",
      "Requirement already satisfied: python-dateutil>=2.8.1 in /home/estudiante/.local/lib/python3.10/site-packages (from pandas<2,>=1.4.3->feast) (2.8.2)\n",
      "Requirement already satisfied: pytz>=2020.1 in /usr/lib/python3/dist-packages (from pandas<2,>=1.4.3->feast) (2022.1)\n",
      "Requirement already satisfied: six>=1.9 in /usr/lib/python3/dist-packages (from pandavro~=1.5.0->feast) (1.16.0)\n",
      "Requirement already satisfied: typing-extensions>=4.2.0 in /home/estudiante/.local/lib/python3.10/site-packages (from pydantic<2,>=1->feast) (4.4.0)\n",
      "Requirement already satisfied: greenlet!=0.4.17 in /home/estudiante/.local/lib/python3.10/site-packages (from SQLAlchemy[mypy]<2,>1->feast) (2.0.2)\n",
      "Requirement already satisfied: sqlalchemy2-stubs in /home/estudiante/.local/lib/python3.10/site-packages (from SQLAlchemy[mypy]<2,>1->feast) (0.0.2a34)\n",
      "Requirement already satisfied: mypy>=0.910 in /home/estudiante/.local/lib/python3.10/site-packages (from SQLAlchemy[mypy]<2,>1->feast) (1.3.0)\n",
      "Requirement already satisfied: h11>=0.8 in /home/estudiante/.local/lib/python3.10/site-packages (from uvicorn[standard]<1,>=0.14.0->feast) (0.14.0)\n",
      "Requirement already satisfied: httptools>=0.5.0 in /home/estudiante/.local/lib/python3.10/site-packages (from uvicorn[standard]<1,>=0.14.0->feast) (0.5.0)\n",
      "Requirement already satisfied: python-dotenv>=0.13 in /home/estudiante/.local/lib/python3.10/site-packages (from uvicorn[standard]<1,>=0.14.0->feast) (0.21.1)\n",
      "Requirement already satisfied: uvloop!=0.15.0,!=0.15.1,>=0.14.0 in /home/estudiante/.local/lib/python3.10/site-packages (from uvicorn[standard]<1,>=0.14.0->feast) (0.17.0)\n",
      "Requirement already satisfied: watchfiles>=0.13 in /home/estudiante/.local/lib/python3.10/site-packages (from uvicorn[standard]<1,>=0.14.0->feast) (0.18.1)\n",
      "Requirement already satisfied: websockets>=10.4 in /home/estudiante/.local/lib/python3.10/site-packages (from uvicorn[standard]<1,>=0.14.0->feast) (10.4)\n",
      "Requirement already satisfied: attrs in /home/estudiante/.local/lib/python3.10/site-packages (from bowler->feast) (22.2.0)\n",
      "Requirement already satisfied: fissix in /home/estudiante/.local/lib/python3.10/site-packages (from bowler->feast) (21.11.13)\n",
      "Requirement already satisfied: moreorless>=0.2.0 in /home/estudiante/.local/lib/python3.10/site-packages (from bowler->feast) (0.4.0)\n",
      "Requirement already satisfied: volatile in /home/estudiante/.local/lib/python3.10/site-packages (from bowler->feast) (2.1.0)\n",
      "Requirement already satisfied: pyrsistent!=0.17.0,!=0.17.1,!=0.17.2,>=0.14.0 in /home/estudiante/.local/lib/python3.10/site-packages (from jsonschema->feast) (0.19.3)\n",
      "Requirement already satisfied: charset-normalizer<4,>=2 in /home/estudiante/.local/lib/python3.10/site-packages (from requests->feast) (3.0.1)\n",
      "Requirement already satisfied: urllib3<1.27,>=1.21.1 in /usr/lib/python3/dist-packages (from requests->feast) (1.26.5)\n",
      "Requirement already satisfied: anyio<5.0,>=3.0 in /home/estudiante/.local/lib/python3.10/site-packages (from httpcore<0.18.0,>=0.15.0->httpx>=0.23.3->feast) (3.6.2)\n",
      "Requirement already satisfied: zipp>=0.5 in /usr/lib/python3/dist-packages (from importlib-metadata>=4.13.0->dask>=2021.1.0->feast) (1.0.0)\n",
      "Requirement already satisfied: mypy-extensions>=1.0.0 in /home/estudiante/.local/lib/python3.10/site-packages (from mypy>=0.910->SQLAlchemy[mypy]<2,>1->feast) (1.0.0)\n",
      "Requirement already satisfied: tomli>=1.1.0 in /home/estudiante/.local/lib/python3.10/site-packages (from mypy>=0.910->SQLAlchemy[mypy]<2,>1->feast) (2.0.1)\n",
      "Requirement already satisfied: locket in /home/estudiante/.local/lib/python3.10/site-packages (from partd>=1.2.0->dask>=2021.1.0->feast) (1.0.0)\n",
      "Requirement already satisfied: appdirs in /home/estudiante/.local/lib/python3.10/site-packages (from fissix->bowler->feast) (1.4.4)\n"
     ]
    }
   ],
   "source": [
    "!pip install feast"
   ]
  },
  {
   "cell_type": "code",
   "execution_count": 2,
   "metadata": {
    "tags": []
   },
   "outputs": [
    {
     "name": "stdout",
     "output_type": "stream",
     "text": [
      "/home/estudiante/.local/lib/python3.10/site-packages/pkg_resources/__init__.py:2804: DeprecationWarning: Deprecated call to `pkg_resources.declare_namespace('google')`.\n",
      "Implementing implicit namespace packages (as specified in PEP 420) is preferred to `pkg_resources.declare_namespace`. See https://setuptools.pypa.io/en/latest/references/keywords.html#keyword-namespace-packages\n",
      "  declare_namespace(pkg)\n",
      "/home/estudiante/.local/lib/python3.10/site-packages/pkg_resources/__init__.py:2804: DeprecationWarning: Deprecated call to `pkg_resources.declare_namespace('mpl_toolkits')`.\n",
      "Implementing implicit namespace packages (as specified in PEP 420) is preferred to `pkg_resources.declare_namespace`. See https://setuptools.pypa.io/en/latest/references/keywords.html#keyword-namespace-packages\n",
      "  declare_namespace(pkg)\n",
      "05/17/2023 10:31:11 AM root INFO: creating /home/estudiante/repo/MLOPS/taller2/my_project/__pycache__\n",
      "05/17/2023 10:31:11 AM root INFO: copying /home/estudiante/.local/lib/python3.10/site-packages/feast/templates/local/__pycache__/bootstrap.cpython-310.pyc -> /home/estudiante/repo/MLOPS/taller2/my_project/__pycache__\n",
      "05/17/2023 10:31:11 AM root INFO: copying /home/estudiante/.local/lib/python3.10/site-packages/feast/templates/local/__pycache__/__init__.cpython-310.pyc -> /home/estudiante/repo/MLOPS/taller2/my_project/__pycache__\n",
      "05/17/2023 10:31:11 AM root INFO: copying /home/estudiante/.local/lib/python3.10/site-packages/feast/templates/local/README.md -> /home/estudiante/repo/MLOPS/taller2/my_project\n",
      "05/17/2023 10:31:11 AM root INFO: copying /home/estudiante/.local/lib/python3.10/site-packages/feast/templates/local/bootstrap.py -> /home/estudiante/repo/MLOPS/taller2/my_project\n",
      "05/17/2023 10:31:11 AM root INFO: creating /home/estudiante/repo/MLOPS/taller2/my_project/feature_repo\n",
      "05/17/2023 10:31:11 AM root INFO: creating /home/estudiante/repo/MLOPS/taller2/my_project/feature_repo/__pycache__\n",
      "05/17/2023 10:31:11 AM root INFO: copying /home/estudiante/.local/lib/python3.10/site-packages/feast/templates/local/feature_repo/__pycache__/__init__.cpython-310.pyc -> /home/estudiante/repo/MLOPS/taller2/my_project/feature_repo/__pycache__\n",
      "05/17/2023 10:31:11 AM root INFO: copying /home/estudiante/.local/lib/python3.10/site-packages/feast/templates/local/feature_repo/__pycache__/example_repo.cpython-310.pyc -> /home/estudiante/repo/MLOPS/taller2/my_project/feature_repo/__pycache__\n",
      "05/17/2023 10:31:11 AM root INFO: copying /home/estudiante/.local/lib/python3.10/site-packages/feast/templates/local/feature_repo/__pycache__/test_workflow.cpython-310.pyc -> /home/estudiante/repo/MLOPS/taller2/my_project/feature_repo/__pycache__\n",
      "05/17/2023 10:31:11 AM root INFO: copying /home/estudiante/.local/lib/python3.10/site-packages/feast/templates/local/feature_repo/__init__.py -> /home/estudiante/repo/MLOPS/taller2/my_project/feature_repo\n",
      "05/17/2023 10:31:11 AM root INFO: copying /home/estudiante/.local/lib/python3.10/site-packages/feast/templates/local/feature_repo/example_repo.py -> /home/estudiante/repo/MLOPS/taller2/my_project/feature_repo\n",
      "05/17/2023 10:31:11 AM root INFO: copying /home/estudiante/.local/lib/python3.10/site-packages/feast/templates/local/feature_repo/feature_store.yaml -> /home/estudiante/repo/MLOPS/taller2/my_project/feature_repo\n",
      "05/17/2023 10:31:11 AM root INFO: copying /home/estudiante/.local/lib/python3.10/site-packages/feast/templates/local/feature_repo/test_workflow.py -> /home/estudiante/repo/MLOPS/taller2/my_project/feature_repo\n",
      "05/17/2023 10:31:11 AM root INFO: copying /home/estudiante/.local/lib/python3.10/site-packages/feast/templates/local/__init__.py -> /home/estudiante/repo/MLOPS/taller2/my_project\n",
      "\n",
      "Creating a new Feast repository in \u001b[1m\u001b[32m/home/estudiante/repo/MLOPS/taller2/my_project\u001b[0m.\n",
      "\n",
      "/home/estudiante/repo/MLOPS/taller2/my_project/feature_repo\n"
     ]
    }
   ],
   "source": [
    "!feast init my_project\n",
    "%cd my_project/feature_repo"
   ]
  },
  {
   "cell_type": "code",
   "execution_count": 3,
   "metadata": {
    "tags": []
   },
   "outputs": [
    {
     "data": {
      "text/html": [
       "<div>\n",
       "<style scoped>\n",
       "    .dataframe tbody tr th:only-of-type {\n",
       "        vertical-align: middle;\n",
       "    }\n",
       "\n",
       "    .dataframe tbody tr th {\n",
       "        vertical-align: top;\n",
       "    }\n",
       "\n",
       "    .dataframe thead th {\n",
       "        text-align: right;\n",
       "    }\n",
       "</style>\n",
       "<table border=\"1\" class=\"dataframe\">\n",
       "  <thead>\n",
       "    <tr style=\"text-align: right;\">\n",
       "      <th></th>\n",
       "      <th>event_timestamp</th>\n",
       "      <th>driver_id</th>\n",
       "      <th>conv_rate</th>\n",
       "      <th>acc_rate</th>\n",
       "      <th>avg_daily_trips</th>\n",
       "      <th>created</th>\n",
       "    </tr>\n",
       "  </thead>\n",
       "  <tbody>\n",
       "    <tr>\n",
       "      <th>0</th>\n",
       "      <td>2023-05-02 10:00:00+00:00</td>\n",
       "      <td>1005</td>\n",
       "      <td>0.236377</td>\n",
       "      <td>0.972807</td>\n",
       "      <td>743</td>\n",
       "      <td>2023-05-17 10:31:11.416</td>\n",
       "    </tr>\n",
       "    <tr>\n",
       "      <th>1</th>\n",
       "      <td>2023-05-02 11:00:00+00:00</td>\n",
       "      <td>1005</td>\n",
       "      <td>0.158543</td>\n",
       "      <td>0.578608</td>\n",
       "      <td>170</td>\n",
       "      <td>2023-05-17 10:31:11.416</td>\n",
       "    </tr>\n",
       "    <tr>\n",
       "      <th>2</th>\n",
       "      <td>2023-05-02 12:00:00+00:00</td>\n",
       "      <td>1005</td>\n",
       "      <td>0.583431</td>\n",
       "      <td>0.024968</td>\n",
       "      <td>942</td>\n",
       "      <td>2023-05-17 10:31:11.416</td>\n",
       "    </tr>\n",
       "    <tr>\n",
       "      <th>3</th>\n",
       "      <td>2023-05-02 13:00:00+00:00</td>\n",
       "      <td>1005</td>\n",
       "      <td>0.175848</td>\n",
       "      <td>0.988660</td>\n",
       "      <td>713</td>\n",
       "      <td>2023-05-17 10:31:11.416</td>\n",
       "    </tr>\n",
       "    <tr>\n",
       "      <th>4</th>\n",
       "      <td>2023-05-02 14:00:00+00:00</td>\n",
       "      <td>1005</td>\n",
       "      <td>0.151660</td>\n",
       "      <td>0.912815</td>\n",
       "      <td>891</td>\n",
       "      <td>2023-05-17 10:31:11.416</td>\n",
       "    </tr>\n",
       "    <tr>\n",
       "      <th>...</th>\n",
       "      <td>...</td>\n",
       "      <td>...</td>\n",
       "      <td>...</td>\n",
       "      <td>...</td>\n",
       "      <td>...</td>\n",
       "      <td>...</td>\n",
       "    </tr>\n",
       "    <tr>\n",
       "      <th>1802</th>\n",
       "      <td>2023-05-17 08:00:00+00:00</td>\n",
       "      <td>1001</td>\n",
       "      <td>0.268602</td>\n",
       "      <td>0.306320</td>\n",
       "      <td>773</td>\n",
       "      <td>2023-05-17 10:31:11.416</td>\n",
       "    </tr>\n",
       "    <tr>\n",
       "      <th>1803</th>\n",
       "      <td>2023-05-17 09:00:00+00:00</td>\n",
       "      <td>1001</td>\n",
       "      <td>0.445904</td>\n",
       "      <td>0.679708</td>\n",
       "      <td>534</td>\n",
       "      <td>2023-05-17 10:31:11.416</td>\n",
       "    </tr>\n",
       "    <tr>\n",
       "      <th>1804</th>\n",
       "      <td>2021-04-12 07:00:00+00:00</td>\n",
       "      <td>1001</td>\n",
       "      <td>0.583974</td>\n",
       "      <td>0.082759</td>\n",
       "      <td>623</td>\n",
       "      <td>2023-05-17 10:31:11.416</td>\n",
       "    </tr>\n",
       "    <tr>\n",
       "      <th>1805</th>\n",
       "      <td>2023-05-09 22:00:00+00:00</td>\n",
       "      <td>1003</td>\n",
       "      <td>0.341435</td>\n",
       "      <td>0.665778</td>\n",
       "      <td>397</td>\n",
       "      <td>2023-05-17 10:31:11.416</td>\n",
       "    </tr>\n",
       "    <tr>\n",
       "      <th>1806</th>\n",
       "      <td>2023-05-09 22:00:00+00:00</td>\n",
       "      <td>1003</td>\n",
       "      <td>0.341435</td>\n",
       "      <td>0.665778</td>\n",
       "      <td>397</td>\n",
       "      <td>2023-05-17 10:31:11.416</td>\n",
       "    </tr>\n",
       "  </tbody>\n",
       "</table>\n",
       "<p>1807 rows × 6 columns</p>\n",
       "</div>"
      ],
      "text/plain": [
       "               event_timestamp  driver_id  conv_rate  acc_rate  \\\n",
       "0    2023-05-02 10:00:00+00:00       1005   0.236377  0.972807   \n",
       "1    2023-05-02 11:00:00+00:00       1005   0.158543  0.578608   \n",
       "2    2023-05-02 12:00:00+00:00       1005   0.583431  0.024968   \n",
       "3    2023-05-02 13:00:00+00:00       1005   0.175848  0.988660   \n",
       "4    2023-05-02 14:00:00+00:00       1005   0.151660  0.912815   \n",
       "...                        ...        ...        ...       ...   \n",
       "1802 2023-05-17 08:00:00+00:00       1001   0.268602  0.306320   \n",
       "1803 2023-05-17 09:00:00+00:00       1001   0.445904  0.679708   \n",
       "1804 2021-04-12 07:00:00+00:00       1001   0.583974  0.082759   \n",
       "1805 2023-05-09 22:00:00+00:00       1003   0.341435  0.665778   \n",
       "1806 2023-05-09 22:00:00+00:00       1003   0.341435  0.665778   \n",
       "\n",
       "      avg_daily_trips                 created  \n",
       "0                 743 2023-05-17 10:31:11.416  \n",
       "1                 170 2023-05-17 10:31:11.416  \n",
       "2                 942 2023-05-17 10:31:11.416  \n",
       "3                 713 2023-05-17 10:31:11.416  \n",
       "4                 891 2023-05-17 10:31:11.416  \n",
       "...               ...                     ...  \n",
       "1802              773 2023-05-17 10:31:11.416  \n",
       "1803              534 2023-05-17 10:31:11.416  \n",
       "1804              623 2023-05-17 10:31:11.416  \n",
       "1805              397 2023-05-17 10:31:11.416  \n",
       "1806              397 2023-05-17 10:31:11.416  \n",
       "\n",
       "[1807 rows x 6 columns]"
      ]
     },
     "execution_count": 3,
     "metadata": {},
     "output_type": "execute_result"
    }
   ],
   "source": [
    "import pandas as pd\n",
    "pd.read_parquet(\"data/driver_stats.parquet\")"
   ]
  },
  {
   "cell_type": "code",
   "execution_count": 4,
   "metadata": {
    "tags": []
   },
   "outputs": [
    {
     "name": "stdout",
     "output_type": "stream",
     "text": [
      "/home/estudiante/.local/lib/python3.10/site-packages/pkg_resources/__init__.py:2804: DeprecationWarning: Deprecated call to `pkg_resources.declare_namespace('google')`.\n",
      "Implementing implicit namespace packages (as specified in PEP 420) is preferred to `pkg_resources.declare_namespace`. See https://setuptools.pypa.io/en/latest/references/keywords.html#keyword-namespace-packages\n",
      "  declare_namespace(pkg)\n",
      "/home/estudiante/.local/lib/python3.10/site-packages/pkg_resources/__init__.py:2804: DeprecationWarning: Deprecated call to `pkg_resources.declare_namespace('mpl_toolkits')`.\n",
      "Implementing implicit namespace packages (as specified in PEP 420) is preferred to `pkg_resources.declare_namespace`. See https://setuptools.pypa.io/en/latest/references/keywords.html#keyword-namespace-packages\n",
      "  declare_namespace(pkg)\n",
      "/home/estudiante/.local/lib/python3.10/site-packages/feast/feature_store.py:561: RuntimeWarning: On demand feature view is an experimental feature. This API is stable, but the functionality does not scale well for offline retrieval\n",
      "  warnings.warn(\n",
      "Created entity \u001b[1m\u001b[32mdriver\u001b[0m\n",
      "Created feature view \u001b[1m\u001b[32mdriver_hourly_stats_fresh\u001b[0m\n",
      "Created feature view \u001b[1m\u001b[32mdriver_hourly_stats\u001b[0m\n",
      "Created on demand feature view \u001b[1m\u001b[32mtransformed_conv_rate_fresh\u001b[0m\n",
      "Created on demand feature view \u001b[1m\u001b[32mtransformed_conv_rate\u001b[0m\n",
      "Created feature service \u001b[1m\u001b[32mdriver_activity_v1\u001b[0m\n",
      "Created feature service \u001b[1m\u001b[32mdriver_activity_v2\u001b[0m\n",
      "Created feature service \u001b[1m\u001b[32mdriver_activity_v3\u001b[0m\n",
      "\n",
      "Created sqlite table \u001b[1m\u001b[32mmy_project_driver_hourly_stats_fresh\u001b[0m\n",
      "Created sqlite table \u001b[1m\u001b[32mmy_project_driver_hourly_stats\u001b[0m\n",
      "\n"
     ]
    }
   ],
   "source": [
    "!feast apply"
   ]
  },
  {
   "cell_type": "code",
   "execution_count": 5,
   "metadata": {
    "tags": []
   },
   "outputs": [
    {
     "name": "stdout",
     "output_type": "stream",
     "text": [
      "----- Feature schema -----\n",
      "\n",
      "<class 'pandas.core.frame.DataFrame'>\n",
      "RangeIndex: 3 entries, 0 to 2\n",
      "Data columns (total 10 columns):\n",
      " #   Column                              Non-Null Count  Dtype              \n",
      "---  ------                              --------------  -----              \n",
      " 0   driver_id                           3 non-null      int64              \n",
      " 1   event_timestamp                     3 non-null      datetime64[ns, UTC]\n",
      " 2   label_driver_reported_satisfaction  3 non-null      int64              \n",
      " 3   val_to_add                          3 non-null      int64              \n",
      " 4   val_to_add_2                        3 non-null      int64              \n",
      " 5   conv_rate                           3 non-null      float32            \n",
      " 6   acc_rate                            3 non-null      float32            \n",
      " 7   avg_daily_trips                     3 non-null      int32              \n",
      " 8   conv_rate_plus_val1                 3 non-null      float64            \n",
      " 9   conv_rate_plus_val2                 3 non-null      float64            \n",
      "dtypes: datetime64[ns, UTC](1), float32(2), float64(2), int32(1), int64(4)\n",
      "memory usage: 332.0 bytes\n",
      "None\n",
      "\n",
      "----- Example features -----\n",
      "\n",
      "   driver_id           event_timestamp  label_driver_reported_satisfaction  \\\n",
      "0       1001 2021-04-12 10:59:42+00:00                                   1   \n",
      "1       1002 2021-04-12 08:12:10+00:00                                   5   \n",
      "2       1003 2021-04-12 16:40:26+00:00                                   3   \n",
      "\n",
      "   val_to_add  val_to_add_2  conv_rate  acc_rate  avg_daily_trips  \\\n",
      "0           1            10   0.583974  0.082759              623   \n",
      "1           2            20   0.563062  0.662949               94   \n",
      "2           3            30   0.398380  0.650111              439   \n",
      "\n",
      "   conv_rate_plus_val1  conv_rate_plus_val2  \n",
      "0             1.583974            10.583974  \n",
      "1             2.563062            20.563062  \n",
      "2             3.398380            30.398380  \n"
     ]
    }
   ],
   "source": [
    "from datetime import datetime\n",
    "import pandas as pd\n",
    "\n",
    "from feast import FeatureStore\n",
    "\n",
    "# Note: see https://docs.feast.dev/getting-started/concepts/feature-retrieval for \n",
    "# more details on how to retrieve for all entities in the offline store instead\n",
    "entity_df = pd.DataFrame.from_dict(\n",
    "    {\n",
    "        # entity's join key -> entity values\n",
    "        \"driver_id\": [1001, 1002, 1003],\n",
    "        # \"event_timestamp\" (reserved key) -> timestamps\n",
    "        \"event_timestamp\": [\n",
    "            datetime(2021, 4, 12, 10, 59, 42),\n",
    "            datetime(2021, 4, 12, 8, 12, 10),\n",
    "            datetime(2021, 4, 12, 16, 40, 26),\n",
    "        ],\n",
    "        # (optional) label name -> label values. Feast does not process these\n",
    "        \"label_driver_reported_satisfaction\": [1, 5, 3],\n",
    "        # values we're using for an on-demand transformation\n",
    "        \"val_to_add\": [1, 2, 3],\n",
    "        \"val_to_add_2\": [10, 20, 30],\n",
    "    }\n",
    ")\n",
    "\n",
    "store = FeatureStore(repo_path=\".\")\n",
    "\n",
    "training_df = store.get_historical_features(\n",
    "    entity_df=entity_df,\n",
    "    features=[\n",
    "        \"driver_hourly_stats:conv_rate\",\n",
    "        \"driver_hourly_stats:acc_rate\",\n",
    "        \"driver_hourly_stats:avg_daily_trips\",\n",
    "        \"transformed_conv_rate:conv_rate_plus_val1\",\n",
    "        \"transformed_conv_rate:conv_rate_plus_val2\",\n",
    "    ],\n",
    ").to_df()\n",
    "\n",
    "print(\"----- Feature schema -----\\n\")\n",
    "print(training_df.info())\n",
    "\n",
    "print()\n",
    "print(\"----- Example features -----\\n\")\n",
    "print(training_df.head())"
   ]
  },
  {
   "cell_type": "code",
   "execution_count": 6,
   "metadata": {
    "tags": []
   },
   "outputs": [
    {
     "name": "stdout",
     "output_type": "stream",
     "text": [
      "\n",
      "----- Example features -----\n",
      "\n",
      "   driver_id                  event_timestamp  \\\n",
      "0       1002 2023-05-17 15:33:38.391382+00:00   \n",
      "1       1001 2023-05-17 15:33:38.391382+00:00   \n",
      "2       1003 2023-05-17 15:33:38.391382+00:00   \n",
      "\n",
      "   label_driver_reported_satisfaction  val_to_add  val_to_add_2  conv_rate  \\\n",
      "0                                   5           2            20   0.061540   \n",
      "1                                   1           1            10   0.445904   \n",
      "2                                   3           3            30   0.038464   \n",
      "\n",
      "   acc_rate  avg_daily_trips  conv_rate_plus_val1  conv_rate_plus_val2  \n",
      "0  0.053379              670             2.061540            20.061540  \n",
      "1  0.679708              534             1.445904            10.445904  \n",
      "2  0.646903                2             3.038464            30.038464  \n"
     ]
    }
   ],
   "source": [
    "entity_df[\"event_timestamp\"] = pd.to_datetime(\"now\", utc=True)\n",
    "training_df = store.get_historical_features(\n",
    "    entity_df=entity_df,\n",
    "    features=[\n",
    "        \"driver_hourly_stats:conv_rate\",\n",
    "        \"driver_hourly_stats:acc_rate\",\n",
    "        \"driver_hourly_stats:avg_daily_trips\",\n",
    "        \"transformed_conv_rate:conv_rate_plus_val1\",\n",
    "        \"transformed_conv_rate:conv_rate_plus_val2\",\n",
    "    ],\n",
    ").to_df()\n",
    "\n",
    "print(\"\\n----- Example features -----\\n\")\n",
    "print(training_df.head())"
   ]
  },
  {
   "cell_type": "code",
   "execution_count": 11,
   "metadata": {
    "tags": []
   },
   "outputs": [
    {
     "name": "stdout",
     "output_type": "stream",
     "text": [
      "/home/estudiante/.local/lib/python3.10/site-packages/pkg_resources/__init__.py:2804: DeprecationWarning: Deprecated call to `pkg_resources.declare_namespace('google')`.\n",
      "Implementing implicit namespace packages (as specified in PEP 420) is preferred to `pkg_resources.declare_namespace`. See https://setuptools.pypa.io/en/latest/references/keywords.html#keyword-namespace-packages\n",
      "  declare_namespace(pkg)\n",
      "/home/estudiante/.local/lib/python3.10/site-packages/pkg_resources/__init__.py:2804: DeprecationWarning: Deprecated call to `pkg_resources.declare_namespace('mpl_toolkits')`.\n",
      "Implementing implicit namespace packages (as specified in PEP 420) is preferred to `pkg_resources.declare_namespace`. See https://setuptools.pypa.io/en/latest/references/keywords.html#keyword-namespace-packages\n",
      "  declare_namespace(pkg)\n",
      "Materializing \u001b[1m\u001b[32m2\u001b[0m feature views to \u001b[1m\u001b[32m2023-05-17 10:39:27-05:00\u001b[0m into the \u001b[1m\u001b[32msqlite\u001b[0m online store.\n",
      "\n",
      "\u001b[1m\u001b[32mdriver_hourly_stats_fresh\u001b[0m from \u001b[1m\u001b[32m2023-05-16 15:39:29-05:00\u001b[0m to \u001b[1m\u001b[32m2023-05-17 10:39:27-05:00\u001b[0m:\n",
      "100%|████████████████████████████████████████████████████████████████| 5/5 [00:00<00:00, 748.93it/s]\n",
      "\u001b[1m\u001b[32mdriver_hourly_stats\u001b[0m from \u001b[1m\u001b[32m2023-05-16 15:39:29-05:00\u001b[0m to \u001b[1m\u001b[32m2023-05-17 10:39:27-05:00\u001b[0m:\n",
      "100%|████████████████████████████████████████████████████████████████| 5/5 [00:00<00:00, 773.17it/s]\n"
     ]
    }
   ],
   "source": [
    "import os\n",
    "\n",
    "current_time = os.popen('date -u +\"%Y-%m-%dT%H:%M:%S\"').read().strip()\n",
    "os.environ['END_TS'] = '2023-05-17T23:59:59'\n",
    "\n",
    "!feast materialize-incremental $current_time"
   ]
  },
  {
   "cell_type": "code",
   "execution_count": 12,
   "metadata": {
    "tags": []
   },
   "outputs": [
    {
     "name": "stdout",
     "output_type": "stream",
     "text": [
      "{'acc_rate': [0.9526011943817139, 0.6637207269668579],\n",
      " 'avg_daily_trips': [263, 222],\n",
      " 'conv_rate': [0.15078987181186676, 0.487605482339859],\n",
      " 'driver_id': [1004, 1005]}\n"
     ]
    }
   ],
   "source": [
    "from pprint import pprint\n",
    "from feast import FeatureStore\n",
    "\n",
    "store = FeatureStore(repo_path=\".\")\n",
    "\n",
    "feature_vector = store.get_online_features(\n",
    "    features=[\n",
    "        \"driver_hourly_stats:conv_rate\",\n",
    "        \"driver_hourly_stats:acc_rate\",\n",
    "        \"driver_hourly_stats:avg_daily_trips\",\n",
    "    ],\n",
    "    entity_rows=[\n",
    "        # {join_key: entity_value}\n",
    "        {\"driver_id\": 1004},\n",
    "        {\"driver_id\": 1005},\n",
    "    ],\n",
    ").to_dict()\n",
    "\n",
    "pprint(feature_vector)"
   ]
  },
  {
   "cell_type": "code",
   "execution_count": 1,
   "metadata": {
    "tags": []
   },
   "outputs": [
    {
     "name": "stdout",
     "output_type": "stream",
     "text": [
      "/home/estudiante/repo/MLOPS/taller2/my_project\n"
     ]
    }
   ],
   "source": [
    "%cd my_project"
   ]
  },
  {
   "cell_type": "code",
   "execution_count": 4,
   "metadata": {
    "tags": []
   },
   "outputs": [
    {
     "name": "stdout",
     "output_type": "stream",
     "text": [
      "feature_repo  __init__.py  README.md\n"
     ]
    }
   ],
   "source": [
    "!ls"
   ]
  },
  {
   "cell_type": "code",
   "execution_count": 5,
   "metadata": {
    "tags": []
   },
   "outputs": [
    {
     "name": "stdout",
     "output_type": "stream",
     "text": [
      "/home/estudiante/repo/MLOPS/taller2/my_project/feature_repo\n"
     ]
    }
   ],
   "source": [
    "%cd feature_repo"
   ]
  },
  {
   "cell_type": "code",
   "execution_count": null,
   "metadata": {
    "tags": []
   },
   "outputs": [
    {
     "name": "stdout",
     "output_type": "stream",
     "text": [
      "/home/estudiante/.local/lib/python3.10/site-packages/pkg_resources/__init__.py:2804: DeprecationWarning: Deprecated call to `pkg_resources.declare_namespace('google')`.\n",
      "Implementing implicit namespace packages (as specified in PEP 420) is preferred to `pkg_resources.declare_namespace`. See https://setuptools.pypa.io/en/latest/references/keywords.html#keyword-namespace-packages\n",
      "  declare_namespace(pkg)\n",
      "/home/estudiante/.local/lib/python3.10/site-packages/pkg_resources/__init__.py:2804: DeprecationWarning: Deprecated call to `pkg_resources.declare_namespace('mpl_toolkits')`.\n",
      "Implementing implicit namespace packages (as specified in PEP 420) is preferred to `pkg_resources.declare_namespace`. See https://setuptools.pypa.io/en/latest/references/keywords.html#keyword-namespace-packages\n",
      "  declare_namespace(pkg)\n",
      "\u001b[32mINFO\u001b[0m:     Started server process [\u001b[36m2074223\u001b[0m]\n",
      "\u001b[32mINFO\u001b[0m:     Waiting for application startup.\n",
      "\u001b[32mINFO\u001b[0m:     Application startup complete.\n",
      "\u001b[32mINFO\u001b[0m:     Uvicorn running on \u001b[1mhttp://0.0.0.0:8888\u001b[0m (Press CTRL+C to quit)\n",
      "\u001b[32mINFO\u001b[0m:     10.101.137.28:57125 - \"\u001b[1mGET / HTTP/1.1\u001b[0m\" \u001b[32m200 OK\u001b[0m\n",
      "\u001b[32mINFO\u001b[0m:     10.101.137.28:57125 - \"\u001b[1mGET /static/js/main.aa3a70f7.js HTTP/1.1\u001b[0m\" \u001b[32m200 OK\u001b[0m\n",
      "\u001b[32mINFO\u001b[0m:     10.101.137.28:57126 - \"\u001b[1mGET /static/css/main.4b6d8029.css HTTP/1.1\u001b[0m\" \u001b[32m200 OK\u001b[0m\n",
      "\u001b[32mINFO\u001b[0m:     10.101.137.28:57126 - \"\u001b[1mGET /static/media/feast-icon-grey.e5aa0a305d8efd775c4b.svg HTTP/1.1\u001b[0m\" \u001b[32m200 OK\u001b[0m\n",
      "\u001b[32mINFO\u001b[0m:     10.101.137.28:57125 - \"\u001b[1mGET /projects-list.json HTTP/1.1\u001b[0m\" \u001b[32m200 OK\u001b[0m\n",
      "\u001b[32mINFO\u001b[0m:     10.101.137.28:57126 - \"\u001b[1mGET /static/js/icon.arrow_down.e84dd908.chunk.js HTTP/1.1\u001b[0m\" \u001b[32m200 OK\u001b[0m\n",
      "\u001b[32mINFO\u001b[0m:     10.101.137.28:57126 - \"\u001b[1mGET /registry HTTP/1.1\u001b[0m\" \u001b[32m200 OK\u001b[0m\n",
      "\u001b[32mINFO\u001b[0m:     10.101.137.28:57125 - \"\u001b[1mGET /feast-favicon-36x36.png HTTP/1.1\u001b[0m\" \u001b[32m200 OK\u001b[0m\n",
      "\u001b[32mINFO\u001b[0m:     10.101.137.28:57284 - \"\u001b[1mGET /static/js/icon.search.e95ba469.chunk.js HTTP/1.1\u001b[0m\" \u001b[32m200 OK\u001b[0m\n"
     ]
    }
   ],
   "source": [
    "!feast ui"
   ]
  }
 ],
 "metadata": {
  "kernelspec": {
   "display_name": "Python 3 (ipykernel)",
   "language": "python",
   "name": "python3"
  },
  "language_info": {
   "codemirror_mode": {
    "name": "ipython",
    "version": 3
   },
   "file_extension": ".py",
   "mimetype": "text/x-python",
   "name": "python",
   "nbconvert_exporter": "python",
   "pygments_lexer": "ipython3",
   "version": "3.10.6"
  }
 },
 "nbformat": 4,
 "nbformat_minor": 4
}
